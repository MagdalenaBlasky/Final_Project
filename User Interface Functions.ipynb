{
 "cells": [
  {
   "cell_type": "markdown",
   "id": "6fd4cf90",
   "metadata": {},
   "source": [
    "# Load data"
   ]
  },
  {
   "cell_type": "code",
   "execution_count": 1,
   "id": "7feeef9f",
   "metadata": {},
   "outputs": [],
   "source": [
    "import pandas as pd\n",
    "import re\n",
    "import streamlit as st"
   ]
  },
  {
   "cell_type": "code",
   "execution_count": null,
   "id": "76de2a91",
   "metadata": {},
   "outputs": [],
   "source": [
    "## find all the rows with 0 \n",
    "wine = wine.drop(wine[(wine['floral'] == 0) & (wine['citrus'] == 0) & \n",
    "              (wine['tree_fruit'] == 0) & (wine['tropical_fruit'] == 0) &\n",
    "              (wine['red_fruit'] == 0) & (wine['black_fruit'] == 0) &\n",
    "              (wine['dried_fruit'] == 0) & (wine['noble_rot'] == 0) &\n",
    "              (wine['herbal'] == 0) & (wine['spice'] == 0) &\n",
    "              (wine['vegetable'] == 0) & (wine['microbial'] == 0) &\n",
    "              (wine['sauvage'] == 0) & (wine['aldehyde'] == 0) &\n",
    "              (wine['fumee'] == 0) & (wine['wood'] == 0) &\n",
    "              (wine['tannin'] == 0)\n",
    "             ].index)\n"
   ]
  },
  {
   "cell_type": "markdown",
   "id": "7d833ca8",
   "metadata": {},
   "source": [
    "wine.reset_index(drop=True, inplace=True)"
   ]
  },
  {
   "cell_type": "markdown",
   "id": "e6ab34de",
   "metadata": {},
   "source": [
    "# User interface"
   ]
  },
  {
   "cell_type": "code",
   "execution_count": 2,
   "id": "bec733b4",
   "metadata": {},
   "outputs": [
    {
     "data": {
      "text/plain": [
       "\" \\nInput\\nSomelier: Hello, Please choose a price category\\n            1.\\n            2.\\n            ...\\n            8. \\nUser * enters number * \\n\\nSomelier: Ok, these are some of the main flavor profiles I that can suggest \\n            1. bla 1\\n            2. bla 2\\n            ...\\n            5. bla 5\\n        Choose 1-5 or enter 'More profiles'\\n        \\nUser More profiles \\nSomelier: Ok, here are some more flavour profiles for you to choose from :)\\n           1. bla 1\\n           2. bla 2\\n            ...\\n           5. bla 5\\n        choose 1-5 or enter 'go back'\\nUser: 1\\n\\nSomelier: Here is a recommendation based on your filters :) \\n    Wine name, country, \\n    Description\\n    \\n\""
      ]
     },
     "execution_count": 2,
     "metadata": {},
     "output_type": "execute_result"
    }
   ],
   "source": [
    "## over all function design\n",
    "''' \n",
    "Input\n",
    "Somelier: Hello, Please choose a price category\n",
    "            1.\n",
    "            2.\n",
    "            ...\n",
    "            8. \n",
    "User * enters number * \n",
    "\n",
    "Somelier: Ok, these are some of the main flavor profiles I that can suggest \n",
    "            1. bla 1\n",
    "            2. bla 2\n",
    "            ...\n",
    "            5. bla 5\n",
    "        Choose 1-5 or enter 'More profiles'\n",
    "        \n",
    "User More profiles \n",
    "Somelier: Ok, here are some more flavour profiles for you to choose from :)\n",
    "           1. bla 1\n",
    "           2. bla 2\n",
    "            ...\n",
    "           5. bla 5\n",
    "        choose 1-5 or enter 'go back'\n",
    "User: 1\n",
    "\n",
    "Somelier: Here is a recommendation based on your filters :) \n",
    "    Wine name, country, \n",
    "    Description\n",
    "    \n",
    "'''\n"
   ]
  },
  {
   "cell_type": "code",
   "execution_count": 18,
   "id": "45e78394",
   "metadata": {},
   "outputs": [],
   "source": [
    "wine_df = pd.read_csv('data/test_clustered_dataset.csv')"
   ]
  },
  {
   "cell_type": "code",
   "execution_count": 19,
   "id": "94287f4c",
   "metadata": {},
   "outputs": [
    {
     "data": {
      "text/html": [
       "<div>\n",
       "<style scoped>\n",
       "    .dataframe tbody tr th:only-of-type {\n",
       "        vertical-align: middle;\n",
       "    }\n",
       "\n",
       "    .dataframe tbody tr th {\n",
       "        vertical-align: top;\n",
       "    }\n",
       "\n",
       "    .dataframe thead th {\n",
       "        text-align: right;\n",
       "    }\n",
       "</style>\n",
       "<table border=\"1\" class=\"dataframe\">\n",
       "  <thead>\n",
       "    <tr style=\"text-align: right;\">\n",
       "      <th></th>\n",
       "      <th>wine_name</th>\n",
       "      <th>country</th>\n",
       "      <th>full_description</th>\n",
       "    </tr>\n",
       "  </thead>\n",
       "  <tbody>\n",
       "    <tr>\n",
       "      <th>0</th>\n",
       "      <td>nicosia 2013 vulkà bianco  (etna)</td>\n",
       "      <td>italy</td>\n",
       "      <td>aromas include tropical fruit, broom, brimston...</td>\n",
       "    </tr>\n",
       "    <tr>\n",
       "      <th>1</th>\n",
       "      <td>st. julian 2013 reserve late harvest riesling ...</td>\n",
       "      <td>us</td>\n",
       "      <td>pineapple rind, lemon pith and orange blossom ...</td>\n",
       "    </tr>\n",
       "    <tr>\n",
       "      <th>2</th>\n",
       "      <td>sweet cheeks 2012 vintner's reserve wild child...</td>\n",
       "      <td>us</td>\n",
       "      <td>much like the regular bottling from 2012, this...</td>\n",
       "    </tr>\n",
       "    <tr>\n",
       "      <th>3</th>\n",
       "      <td>tandem 2011 ars in vitro tempranillo-merlot (n...</td>\n",
       "      <td>spain</td>\n",
       "      <td>blackberry and raspberry aromas show a typical...</td>\n",
       "    </tr>\n",
       "    <tr>\n",
       "      <th>4</th>\n",
       "      <td>terre di giurfo 2013 belsito frappato (vittoria)</td>\n",
       "      <td>italy</td>\n",
       "      <td>here's a bright, informal red that opens with ...</td>\n",
       "    </tr>\n",
       "    <tr>\n",
       "      <th>...</th>\n",
       "      <td>...</td>\n",
       "      <td>...</td>\n",
       "      <td>...</td>\n",
       "    </tr>\n",
       "    <tr>\n",
       "      <th>68530</th>\n",
       "      <td>cusumano 2012 sàgana tenuta san giacomo nero d...</td>\n",
       "      <td>italy</td>\n",
       "      <td>blackberry, cassis, grilled herb and toasted a...</td>\n",
       "    </tr>\n",
       "    <tr>\n",
       "      <th>68531</th>\n",
       "      <td>domaine ehrhart 2013 domaine saint-rémy herren...</td>\n",
       "      <td>france</td>\n",
       "      <td>initially quite muted, this wine slowly develo...</td>\n",
       "    </tr>\n",
       "    <tr>\n",
       "      <th>68532</th>\n",
       "      <td>domaine rieflé-landmann 2013 seppi landmann va...</td>\n",
       "      <td>france</td>\n",
       "      <td>while it's rich, this beautiful dry wine also ...</td>\n",
       "    </tr>\n",
       "    <tr>\n",
       "      <th>68533</th>\n",
       "      <td>domaine gresser 2013 kritt gewurztraminer (als...</td>\n",
       "      <td>france</td>\n",
       "      <td>well-drained gravel soil gives this wine its c...</td>\n",
       "    </tr>\n",
       "    <tr>\n",
       "      <th>68534</th>\n",
       "      <td>domaine schoffit 2012 lieu-dit harth cuvée car...</td>\n",
       "      <td>france</td>\n",
       "      <td>big, rich and off-dry, this is powered by inte...</td>\n",
       "    </tr>\n",
       "  </tbody>\n",
       "</table>\n",
       "<p>68535 rows × 3 columns</p>\n",
       "</div>"
      ],
      "text/plain": [
       "                                               wine_name country  \\\n",
       "0                      nicosia 2013 vulkà bianco  (etna)   italy   \n",
       "1      st. julian 2013 reserve late harvest riesling ...      us   \n",
       "2      sweet cheeks 2012 vintner's reserve wild child...      us   \n",
       "3      tandem 2011 ars in vitro tempranillo-merlot (n...   spain   \n",
       "4       terre di giurfo 2013 belsito frappato (vittoria)   italy   \n",
       "...                                                  ...     ...   \n",
       "68530  cusumano 2012 sàgana tenuta san giacomo nero d...   italy   \n",
       "68531  domaine ehrhart 2013 domaine saint-rémy herren...  france   \n",
       "68532  domaine rieflé-landmann 2013 seppi landmann va...  france   \n",
       "68533  domaine gresser 2013 kritt gewurztraminer (als...  france   \n",
       "68534  domaine schoffit 2012 lieu-dit harth cuvée car...  france   \n",
       "\n",
       "                                        full_description  \n",
       "0      aromas include tropical fruit, broom, brimston...  \n",
       "1      pineapple rind, lemon pith and orange blossom ...  \n",
       "2      much like the regular bottling from 2012, this...  \n",
       "3      blackberry and raspberry aromas show a typical...  \n",
       "4      here's a bright, informal red that opens with ...  \n",
       "...                                                  ...  \n",
       "68530  blackberry, cassis, grilled herb and toasted a...  \n",
       "68531  initially quite muted, this wine slowly develo...  \n",
       "68532  while it's rich, this beautiful dry wine also ...  \n",
       "68533  well-drained gravel soil gives this wine its c...  \n",
       "68534  big, rich and off-dry, this is powered by inte...  \n",
       "\n",
       "[68535 rows x 3 columns]"
      ]
     },
     "execution_count": 19,
     "metadata": {},
     "output_type": "execute_result"
    }
   ],
   "source": [
    "wine_df[['wine_name', 'country', 'full_description']]"
   ]
  },
  {
   "cell_type": "code",
   "execution_count": 20,
   "id": "4dd3b4a3",
   "metadata": {},
   "outputs": [],
   "source": [
    "price_menu = {'Price Category': ['value', 'popular_premium', 'premium', 'super_premium', 'ultra_premium', \n",
    "              'luxury', 'super_luxury', 'icon'], 'Price Point in $': ['4-10', '10-15','15-20','20-30','30-50','50-100', '100-200', '200+']}\n",
    "price_menu_df = pd.DataFrame.from_dict(price_menu)\n",
    "price_menu_df.index +=1\n",
    "\n",
    "cluster_menu = {'cluster': [0, 1, 2, 3, 4, 5, 6], 'Flavor Profile': ['yummy', 'tasty','delicious','mmmm','finger lickin good','great', 'awful']}\n",
    "cluster_menu_df = pd.DataFrame.from_dict(cluster_menu) \n",
    "cluster_menu_df.index +=1\n",
    "\n"
   ]
  },
  {
   "cell_type": "code",
   "execution_count": 24,
   "id": "dd75ff10",
   "metadata": {},
   "outputs": [],
   "source": [
    "def price_selector():\n",
    "\n",
    "    print (price_menu_df)\n",
    "\n",
    "    user_input = None\n",
    "    while user_input not in ('1', '2', '3','4','5','6','7','8'):  \n",
    "        \n",
    "        user_input = input ('\\x1B[1mSomelier:\\033[0m ' + 'Hello, I am WineRecoBot! Please select a price category from 1-8.')\n",
    "        user_input = re.sub(\"\\D\", \"\", user_input)\n",
    "    \n",
    "    \n",
    "        if user_input in ('1', '2' ,'3','4', '5','6','7','8'):\n",
    "            user_input = int(user_input)\n",
    "            response_price_category = price_menu_df.loc[user_input , 'Price Category' ]\n",
    "        \n",
    "            print('\\n' + '\\n'  + \"\\x1B[1mSomelier:\\033[0m \" + \"Great we'll find you a wine from price category: \"  + '\\033[4m' + response_price_category + '\\033[0m' \n",
    "                 + '\\n' + '\\n'  )\n",
    "        \n",
    "            wine_df_chosen = wine_df[wine_df['price_category'] == response_price_category]\n",
    "        \n",
    "        \n",
    "            break \n",
    "        else:\n",
    "            print('\\n' + \"\\x1B[1mSomelier:\\033[0m\" + \"\\033[91mYour entry is invalid. Please enter a number from 1-8\\033[0m\") \n",
    "            \n",
    "## what happens if there are no wines of these price categories in the cluster\n"
   ]
  },
  {
   "cell_type": "code",
   "execution_count": 25,
   "id": "040b8cb1",
   "metadata": {},
   "outputs": [
    {
     "name": "stdout",
     "output_type": "stream",
     "text": [
      "    Price Category Price Point in $\n",
      "1            value             4-10\n",
      "2  popular_premium            10-15\n",
      "3          premium            15-20\n",
      "4    super_premium            20-30\n",
      "5    ultra_premium            30-50\n",
      "6           luxury           50-100\n",
      "7     super_luxury          100-200\n",
      "8             icon             200+\n",
      "Somelier: Hello, I am WineRecoBot! Please select a price category from 1-8.7\n",
      "\n",
      "\n",
      "\u001b[1mSomelier:\u001b[0m Great we'll find you a wine from price category: \u001b[4msuper_luxury\u001b[0m\n",
      "\n",
      "\n"
     ]
    }
   ],
   "source": [
    "price_selector()\n"
   ]
  },
  {
   "cell_type": "code",
   "execution_count": 26,
   "id": "e3a369e4",
   "metadata": {},
   "outputs": [
    {
     "ename": "NameError",
     "evalue": "name 'wine_df_chosen' is not defined",
     "output_type": "error",
     "traceback": [
      "\u001b[0;31m---------------------------------------------------------------------------\u001b[0m",
      "\u001b[0;31mNameError\u001b[0m                                 Traceback (most recent call last)",
      "\u001b[0;32m/var/folders/g0/t2l0bdnj06l1ns109451lxvw0000gp/T/ipykernel_43817/223874055.py\u001b[0m in \u001b[0;36m<module>\u001b[0;34m\u001b[0m\n\u001b[0;32m----> 1\u001b[0;31m \u001b[0mwine_df_chosen\u001b[0m\u001b[0;34m\u001b[0m\u001b[0;34m\u001b[0m\u001b[0m\n\u001b[0m",
      "\u001b[0;31mNameError\u001b[0m: name 'wine_df_chosen' is not defined"
     ]
    }
   ],
   "source": [
    "wine_df_chosen"
   ]
  },
  {
   "cell_type": "code",
   "execution_count": 7,
   "id": "03c8daba",
   "metadata": {},
   "outputs": [],
   "source": [
    "def recommender():\n",
    "\n",
    "    print(cluster_menu_df.iloc[0:, 1])\n",
    "\n",
    "    user_cluster_selection = None \n",
    "    while user_cluster_selection not in ('1', '2', '3','4','5','6','7'):  \n",
    "        \n",
    "        print ('\\n' + '\\x1B[1mSomelier:\\033[0m ' + 'Here are the main wine profiles I can recommend from. Which would you like? Enter 1-7.')\n",
    "        user_cluster_selection = input()\n",
    "        user_cluster_selection = re.sub(\"\\D\", \"\", user_cluster_selection)\n",
    "        \n",
    "        if user_cluster_selection in ('1', '2', '3','4','5','6','7'):\n",
    "            user_cluster_selection = int(user_cluster_selection)\n",
    "            flavor_profile_selection = cluster_menu_df.loc[user_cluster_selection, 'Flavor Profile']\n",
    "            cluster_selection = cluster_menu_df.loc[user_cluster_selection, 'cluster']\n",
    "            cluster_selection = int (cluster_selection) \n",
    "            user_selected_df = wine_df_chosen[wine_df_chosen['cluster'] == cluster_selection]\n",
    "        \n",
    "            ## print ('\\n' + 'Somelier: You have selected ' + flavor_profile_selection + '. Here is a recommendation that matches your search: ')       \n",
    "            recommendation = user_selected_df.sample()\n",
    "            recommendation = recommendation [['wine_name', 'country', 'full_description']]\n",
    "            break\n",
    "        else: \n",
    "            print ('\\n' + \"\\x1B[1mSomelier:\\033[0m \" + \"\\033[91mYour entry is invalid. Please enter a number from 1-7\\033[0m\") \n",
    "    \n",
    "    return print( '\\n' + '\\x1B[1mSomelier:\\033[0m ' + 'You have selected ' + '\\033[4m' + flavor_profile_selection + '\\033[0m' + '. Here is a recommendation that matches your search: '\n",
    "                '\\n' + '\\n' + '\\x1B[1mWine:\\033[0m ' + recommendation.iloc[0, 0] + \n",
    "                 '\\n' + '\\n' +  '\\x1B[1mCountry:\\033[0m ' + recommendation.iloc[0, 1] + \n",
    "                 '\\n' + '\\n' +  '\\x1B[1mDescription:\\033[0m ' + recommendation.iloc[0, 2])\n",
    "    "
   ]
  },
  {
   "cell_type": "code",
   "execution_count": 8,
   "id": "9431e0c1",
   "metadata": {},
   "outputs": [
    {
     "name": "stderr",
     "output_type": "stream",
     "text": [
      "2022-03-09 15:26:39.460 \n",
      "  \u001b[33m\u001b[1mWarning:\u001b[0m to view this Streamlit app on a browser, run it with the following\n",
      "  command:\n",
      "\n",
      "    streamlit run /Users/muhammad/opt/anaconda3/envs/DA_Environment/lib/python3.9/site-packages/ipykernel_launcher.py [ARGUMENTS]\n"
     ]
    },
    {
     "data": {
      "text/plain": [
       "DeltaGenerator(_root_container=0, _provided_cursor=None, _parent=None, _block_type=None, _form_data=None)"
      ]
     },
     "execution_count": 8,
     "metadata": {},
     "output_type": "execute_result"
    }
   ],
   "source": [
    "st.title('Wine Recommender')"
   ]
  },
  {
   "cell_type": "code",
   "execution_count": 9,
   "id": "4fd6f81c",
   "metadata": {},
   "outputs": [],
   "source": [
    "\n",
    "def recommender_final():\n",
    "    price_selector()\n",
    "    recommender()\n"
   ]
  },
  {
   "cell_type": "code",
   "execution_count": 11,
   "id": "19e82a8c",
   "metadata": {},
   "outputs": [
    {
     "name": "stdout",
     "output_type": "stream",
     "text": [
      "    Price Category Price Point in $\n",
      "1            value             4-10\n",
      "2  popular_premium            10-15\n",
      "3          premium            15-20\n",
      "4    super_premium            20-30\n",
      "5    ultra_premium            30-50\n",
      "6           luxury           50-100\n",
      "7     super_luxury          100-200\n",
      "8             icon             200+\n",
      "Somelier: Hello, I am WineRecoBot! Please select a price category from 1-8.5\n",
      "\n",
      "\n",
      "\u001b[1mSomelier:\u001b[0m Great we'll find you a wine from price category: \u001b[4multra_premium\u001b[0m\n",
      "\n",
      "\n",
      "1                 yummy\n",
      "2                 tasty\n",
      "3             delicious\n",
      "4                  mmmm\n",
      "5    finger lickin good\n",
      "6                 great\n",
      "7                 awful\n",
      "Name: Flavor Profile, dtype: object\n",
      "\n",
      "\u001b[1mSomelier:\u001b[0m Here are the main wine profiles I can recommend from. Which would you like? Enter 1-7.\n",
      "d\n",
      "\n",
      "\u001b[1mSomelier:\u001b[0m \u001b[91mYour entry is invalid. Please enter a number from 1-7\u001b[0m\n",
      "\n",
      "\u001b[1mSomelier:\u001b[0m Here are the main wine profiles I can recommend from. Which would you like? Enter 1-7.\n",
      "3\n"
     ]
    },
    {
     "ename": "NameError",
     "evalue": "name 'wine_df_chosen' is not defined",
     "output_type": "error",
     "traceback": [
      "\u001b[0;31m---------------------------------------------------------------------------\u001b[0m",
      "\u001b[0;31mNameError\u001b[0m                                 Traceback (most recent call last)",
      "\u001b[0;32m/var/folders/g0/t2l0bdnj06l1ns109451lxvw0000gp/T/ipykernel_43817/1682992413.py\u001b[0m in \u001b[0;36m<module>\u001b[0;34m\u001b[0m\n\u001b[0;32m----> 1\u001b[0;31m \u001b[0mrecommender_final\u001b[0m\u001b[0;34m(\u001b[0m\u001b[0;34m)\u001b[0m\u001b[0;34m\u001b[0m\u001b[0;34m\u001b[0m\u001b[0m\n\u001b[0m",
      "\u001b[0;32m/var/folders/g0/t2l0bdnj06l1ns109451lxvw0000gp/T/ipykernel_43817/2443728932.py\u001b[0m in \u001b[0;36mrecommender_final\u001b[0;34m()\u001b[0m\n\u001b[1;32m      1\u001b[0m \u001b[0;32mdef\u001b[0m \u001b[0mrecommender_final\u001b[0m\u001b[0;34m(\u001b[0m\u001b[0;34m)\u001b[0m\u001b[0;34m:\u001b[0m\u001b[0;34m\u001b[0m\u001b[0;34m\u001b[0m\u001b[0m\n\u001b[1;32m      2\u001b[0m     \u001b[0mprice_selector\u001b[0m\u001b[0;34m(\u001b[0m\u001b[0;34m)\u001b[0m\u001b[0;34m\u001b[0m\u001b[0;34m\u001b[0m\u001b[0m\n\u001b[0;32m----> 3\u001b[0;31m     \u001b[0mrecommender\u001b[0m\u001b[0;34m(\u001b[0m\u001b[0;34m)\u001b[0m\u001b[0;34m\u001b[0m\u001b[0;34m\u001b[0m\u001b[0m\n\u001b[0m",
      "\u001b[0;32m/var/folders/g0/t2l0bdnj06l1ns109451lxvw0000gp/T/ipykernel_43817/4057455085.py\u001b[0m in \u001b[0;36mrecommender\u001b[0;34m()\u001b[0m\n\u001b[1;32m     15\u001b[0m             \u001b[0mcluster_selection\u001b[0m \u001b[0;34m=\u001b[0m \u001b[0mcluster_menu_df\u001b[0m\u001b[0;34m.\u001b[0m\u001b[0mloc\u001b[0m\u001b[0;34m[\u001b[0m\u001b[0muser_cluster_selection\u001b[0m\u001b[0;34m,\u001b[0m \u001b[0;34m'cluster'\u001b[0m\u001b[0;34m]\u001b[0m\u001b[0;34m\u001b[0m\u001b[0;34m\u001b[0m\u001b[0m\n\u001b[1;32m     16\u001b[0m             \u001b[0mcluster_selection\u001b[0m \u001b[0;34m=\u001b[0m \u001b[0mint\u001b[0m \u001b[0;34m(\u001b[0m\u001b[0mcluster_selection\u001b[0m\u001b[0;34m)\u001b[0m\u001b[0;34m\u001b[0m\u001b[0;34m\u001b[0m\u001b[0m\n\u001b[0;32m---> 17\u001b[0;31m             \u001b[0muser_selected_df\u001b[0m \u001b[0;34m=\u001b[0m \u001b[0mwine_df_chosen\u001b[0m\u001b[0;34m[\u001b[0m\u001b[0mwine_df_chosen\u001b[0m\u001b[0;34m[\u001b[0m\u001b[0;34m'cluster'\u001b[0m\u001b[0;34m]\u001b[0m \u001b[0;34m==\u001b[0m \u001b[0mcluster_selection\u001b[0m\u001b[0;34m]\u001b[0m\u001b[0;34m\u001b[0m\u001b[0;34m\u001b[0m\u001b[0m\n\u001b[0m\u001b[1;32m     18\u001b[0m \u001b[0;34m\u001b[0m\u001b[0m\n\u001b[1;32m     19\u001b[0m             \u001b[0;31m## print ('\\n' + 'Somelier: You have selected ' + flavor_profile_selection + '. Here is a recommendation that matches your search: ')\u001b[0m\u001b[0;34m\u001b[0m\u001b[0;34m\u001b[0m\u001b[0m\n",
      "\u001b[0;31mNameError\u001b[0m: name 'wine_df_chosen' is not defined"
     ]
    }
   ],
   "source": [
    "recommender_final()"
   ]
  },
  {
   "cell_type": "code",
   "execution_count": null,
   "id": "0bc1761b",
   "metadata": {},
   "outputs": [],
   "source": []
  }
 ],
 "metadata": {
  "kernelspec": {
   "display_name": "Python 3 (ipykernel)",
   "language": "python",
   "name": "python3"
  },
  "language_info": {
   "codemirror_mode": {
    "name": "ipython",
    "version": 3
   },
   "file_extension": ".py",
   "mimetype": "text/x-python",
   "name": "python",
   "nbconvert_exporter": "python",
   "pygments_lexer": "ipython3",
   "version": "3.9.7"
  },
  "toc": {
   "base_numbering": 1,
   "nav_menu": {},
   "number_sections": true,
   "sideBar": true,
   "skip_h1_title": false,
   "title_cell": "Table of Contents",
   "title_sidebar": "Contents",
   "toc_cell": false,
   "toc_position": {},
   "toc_section_display": true,
   "toc_window_display": true
  }
 },
 "nbformat": 4,
 "nbformat_minor": 5
}
