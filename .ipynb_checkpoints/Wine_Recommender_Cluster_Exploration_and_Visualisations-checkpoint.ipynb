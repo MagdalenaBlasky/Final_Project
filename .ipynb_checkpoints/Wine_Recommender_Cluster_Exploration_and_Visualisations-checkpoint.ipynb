{
 "cells": [
  {
   "cell_type": "markdown",
   "id": "f952f579",
   "metadata": {},
   "source": [
    "# Importing libraries and loading data"
   ]
  },
  {
   "cell_type": "code",
   "execution_count": 236,
   "id": "888577ca",
   "metadata": {},
   "outputs": [],
   "source": [
    "import pandas as pd\n",
    "import numpy as np\n",
    "import seaborn as sns\n",
    "import matplotlib.pyplot as plt\n",
    "import nltk\n",
    "import re\n",
    "\n",
    "%matplotlib inline"
   ]
  },
  {
   "cell_type": "code",
   "execution_count": 237,
   "id": "9492ba91",
   "metadata": {},
   "outputs": [],
   "source": [
    "wine = pd.read_csv('data/clustered_data/det_cao_100_iter_12_clusters.csv')"
   ]
  },
  {
   "cell_type": "markdown",
   "id": "62c90bf6",
   "metadata": {},
   "source": [
    "# Preparing data for further exploration after clustering"
   ]
  },
  {
   "cell_type": "markdown",
   "id": "b7600826",
   "metadata": {},
   "source": [
    "## Dropping all rows with cluster 0\n",
    "\n",
    "We decided to drop cluster 0 because after clustering with K-Modes this cluster had no particular features. "
   ]
  },
  {
   "cell_type": "code",
   "execution_count": 238,
   "id": "6c286c98",
   "metadata": {},
   "outputs": [],
   "source": [
    "wine = wine[wine['cluster']!=0]"
   ]
  },
  {
   "cell_type": "code",
   "execution_count": 239,
   "id": "ae1d10dc",
   "metadata": {},
   "outputs": [
    {
     "data": {
      "text/plain": [
       "5     10728\n",
       "6      3982\n",
       "3      3748\n",
       "8      3224\n",
       "7      2583\n",
       "9      2375\n",
       "2      2026\n",
       "1      1283\n",
       "11     1277\n",
       "10     1152\n",
       "4      1116\n",
       "Name: cluster, dtype: int64"
      ]
     },
     "execution_count": 239,
     "metadata": {},
     "output_type": "execute_result"
    }
   ],
   "source": [
    "wine['cluster'].value_counts()"
   ]
  },
  {
   "cell_type": "markdown",
   "id": "0d8c642b",
   "metadata": {},
   "source": [
    "## Defining functions "
   ]
  },
  {
   "cell_type": "code",
   "execution_count": 240,
   "id": "827af392",
   "metadata": {},
   "outputs": [],
   "source": [
    "def variety_counter(cluster_number):\n",
    "    \n",
    "    variety_list = []\n",
    "    \n",
    "    wordfreq = {}\n",
    "        \n",
    "    for value in wine[wine['cluster']==cluster_number]['variety']:\n",
    "        variety_list.append(value)\n",
    "            \n",
    "    for word in variety_list:\n",
    "            if ( word not in wordfreq.keys() ): \n",
    "                wordfreq[word] = 1 \n",
    "            else: \n",
    "                wordfreq[word] += 1   \n",
    "                \n",
    "    sorted_tuple = sorted(wordfreq.items(), key=lambda word: word[1], reverse=True)\n",
    "                \n",
    "    return sorted_tuple"
   ]
  },
  {
   "cell_type": "code",
   "execution_count": 241,
   "id": "b5bf0bed",
   "metadata": {},
   "outputs": [],
   "source": [
    "def province_counter(cluster_number):\n",
    "    \n",
    "    province_list = []\n",
    "    \n",
    "    wordfreq = {}\n",
    "        \n",
    "    for value in wine[wine['cluster']==cluster_number]['province']:\n",
    "        province_list.append(value)\n",
    "            \n",
    "    for word in province_list:\n",
    "            if ( word not in wordfreq.keys() ): \n",
    "                wordfreq[word] = 1 \n",
    "            else: \n",
    "                wordfreq[word] += 1   \n",
    "                \n",
    "    sorted_tuple = sorted(wordfreq.items(), key=lambda word: word[1], reverse=True)\n",
    "                \n",
    "    return sorted_tuple"
   ]
  },
  {
   "cell_type": "code",
   "execution_count": 242,
   "id": "0beab27a",
   "metadata": {},
   "outputs": [],
   "source": [
    "def region_counter(cluster_number):\n",
    "    \n",
    "    region_list = []\n",
    "    \n",
    "    wordfreq = {}\n",
    "        \n",
    "    for value in wine[wine['cluster']==cluster_number]['region']:\n",
    "        region_list.append(value)\n",
    "            \n",
    "    for word in region_list:\n",
    "            if ( word not in wordfreq.keys() ): \n",
    "                wordfreq[word] = 1 \n",
    "            else: \n",
    "                wordfreq[word] += 1   \n",
    "                \n",
    "    sorted_tuple = sorted(wordfreq.items(), key=lambda word: word[1], reverse=True)\n",
    "                \n",
    "    return sorted_tuple"
   ]
  },
  {
   "cell_type": "code",
   "execution_count": 243,
   "id": "705a6174",
   "metadata": {},
   "outputs": [],
   "source": [
    "def clean_text(string):\n",
    "    \n",
    "    string = re.sub(r'\\W+',' ',string) # Replace everything non-alpahnumeric by ' '\n",
    "    string = re.sub(r'\\s+',' ',string) # Replace one or more whitespaces by  ' '\n",
    "    string = re.sub(r'\\d+',' ',string) # Replace one or more digits by  ' '\n",
    "    \n",
    "    return string"
   ]
  },
  {
   "cell_type": "markdown",
   "id": "49d271b9",
   "metadata": {},
   "source": [
    "## Cleaning and tokenizing the description column again "
   ]
  },
  {
   "cell_type": "code",
   "execution_count": 244,
   "id": "954a204f",
   "metadata": {},
   "outputs": [],
   "source": [
    "wine['description'] = list(map(clean_text, wine['description']))"
   ]
  },
  {
   "cell_type": "code",
   "execution_count": 245,
   "id": "448cb447",
   "metadata": {},
   "outputs": [],
   "source": [
    "wine['description'] = list(map(nltk.word_tokenize, wine['description']))"
   ]
  },
  {
   "cell_type": "code",
   "execution_count": 246,
   "id": "6be1adaf",
   "metadata": {},
   "outputs": [
    {
     "name": "stdout",
     "output_type": "stream",
     "text": [
      "Cluster_1\n"
     ]
    },
    {
     "data": {
      "text/plain": [
       "[('cabernet sauvignon', 179),\n",
       " ('red blend', 166),\n",
       " ('nebbiolo', 152),\n",
       " ('pinot noir', 128),\n",
       " ('sangiovese', 76),\n",
       " ('bordeaux-style red blend', 74),\n",
       " ('tempranillo', 61),\n",
       " ('malbec', 47),\n",
       " ('syrah', 42),\n",
       " ('zinfandel', 39),\n",
       " ('chardonnay', 34)]"
      ]
     },
     "metadata": {},
     "output_type": "display_data"
    },
    {
     "name": "stdout",
     "output_type": "stream",
     "text": [
      "Cluster_2\n"
     ]
    },
    {
     "data": {
      "text/plain": [
       "[('red blend', 357),\n",
       " ('pinot noir', 267),\n",
       " ('nebbiolo', 198),\n",
       " ('sangiovese', 159),\n",
       " ('cabernet sauvignon', 137),\n",
       " ('syrah', 117),\n",
       " ('tempranillo', 86),\n",
       " ('zinfandel', 66),\n",
       " ('tempranillo blend', 50),\n",
       " ('rhône-style red blend', 46),\n",
       " ('bordeaux-style red blend', 43)]"
      ]
     },
     "metadata": {},
     "output_type": "display_data"
    },
    {
     "name": "stdout",
     "output_type": "stream",
     "text": [
      "Cluster_3\n"
     ]
    },
    {
     "data": {
      "text/plain": [
       "[('pinot noir', 687),\n",
       " ('red blend', 529),\n",
       " ('nebbiolo', 435),\n",
       " ('cabernet sauvignon', 374),\n",
       " ('sangiovese', 176),\n",
       " ('syrah', 173),\n",
       " ('malbec', 169),\n",
       " ('bordeaux-style red blend', 168),\n",
       " ('tempranillo', 113),\n",
       " ('rhône-style red blend', 85),\n",
       " ('merlot', 80)]"
      ]
     },
     "metadata": {},
     "output_type": "display_data"
    },
    {
     "name": "stdout",
     "output_type": "stream",
     "text": [
      "Cluster_4\n"
     ]
    },
    {
     "data": {
      "text/plain": [
       "[('pinot noir', 159),\n",
       " ('red blend', 152),\n",
       " ('nebbiolo', 139),\n",
       " ('cabernet sauvignon', 116),\n",
       " ('sangiovese', 44),\n",
       " ('bordeaux-style red blend', 41),\n",
       " ('syrah', 40),\n",
       " ('malbec', 39),\n",
       " ('chardonnay', 37),\n",
       " ('tempranillo', 36),\n",
       " ('merlot', 33)]"
      ]
     },
     "metadata": {},
     "output_type": "display_data"
    },
    {
     "name": "stdout",
     "output_type": "stream",
     "text": [
      "Cluster_5\n"
     ]
    },
    {
     "data": {
      "text/plain": [
       "[('chardonnay', 2173),\n",
       " ('riesling', 1103),\n",
       " ('sauvignon blanc', 775),\n",
       " ('sparkling blend', 747),\n",
       " ('white blend', 681),\n",
       " ('rosé', 429),\n",
       " ('champagne blend', 395),\n",
       " ('pinot noir', 337),\n",
       " ('glera', 332),\n",
       " ('pinot gris', 257),\n",
       " ('gewürztraminer', 226)]"
      ]
     },
     "metadata": {},
     "output_type": "display_data"
    },
    {
     "name": "stdout",
     "output_type": "stream",
     "text": [
      "Cluster_6\n"
     ]
    },
    {
     "data": {
      "text/plain": [
       "[('red blend', 769),\n",
       " ('pinot noir', 721),\n",
       " ('nebbiolo', 256),\n",
       " ('sangiovese', 197),\n",
       " ('zinfandel', 174),\n",
       " ('syrah', 170),\n",
       " ('cabernet sauvignon', 164),\n",
       " ('rhône-style red blend', 106),\n",
       " ('rosé', 103),\n",
       " ('merlot', 101),\n",
       " ('bordeaux-style red blend', 100)]"
      ]
     },
     "metadata": {},
     "output_type": "display_data"
    },
    {
     "name": "stdout",
     "output_type": "stream",
     "text": [
      "Cluster_7\n"
     ]
    },
    {
     "data": {
      "text/plain": [
       "[('cabernet sauvignon', 595),\n",
       " ('red blend', 378),\n",
       " ('bordeaux-style red blend', 209),\n",
       " ('pinot noir', 174),\n",
       " ('syrah', 154),\n",
       " ('malbec', 136),\n",
       " ('zinfandel', 111),\n",
       " ('tempranillo', 103),\n",
       " ('merlot', 94),\n",
       " ('sangiovese', 58),\n",
       " ('rhône-style red blend', 54)]"
      ]
     },
     "metadata": {},
     "output_type": "display_data"
    },
    {
     "name": "stdout",
     "output_type": "stream",
     "text": [
      "Cluster_8\n"
     ]
    },
    {
     "data": {
      "text/plain": [
       "[('pinot noir', 884),\n",
       " ('red blend', 353),\n",
       " ('cabernet sauvignon', 245),\n",
       " ('nebbiolo', 153),\n",
       " ('bordeaux-style red blend', 139),\n",
       " ('malbec', 122),\n",
       " ('tempranillo', 120),\n",
       " ('sangiovese', 114),\n",
       " ('rhône-style red blend', 100),\n",
       " ('syrah', 98),\n",
       " ('rosé', 95)]"
      ]
     },
     "metadata": {},
     "output_type": "display_data"
    },
    {
     "name": "stdout",
     "output_type": "stream",
     "text": [
      "Cluster_9\n"
     ]
    },
    {
     "data": {
      "text/plain": [
       "[('red blend', 330),\n",
       " ('syrah', 325),\n",
       " ('cabernet sauvignon', 289),\n",
       " ('zinfandel', 174),\n",
       " ('bordeaux-style red blend', 136),\n",
       " ('malbec', 128),\n",
       " ('tempranillo', 77),\n",
       " ('pinot noir', 69),\n",
       " ('rhône-style red blend', 64),\n",
       " ('petite sirah', 56),\n",
       " ('chardonnay', 55)]"
      ]
     },
     "metadata": {},
     "output_type": "display_data"
    },
    {
     "name": "stdout",
     "output_type": "stream",
     "text": [
      "Cluster_10\n"
     ]
    },
    {
     "data": {
      "text/plain": [
       "[('chardonnay', 615),\n",
       " ('sauvignon blanc', 70),\n",
       " ('pinot noir', 60),\n",
       " ('white blend', 46),\n",
       " ('tempranillo', 31),\n",
       " ('sparkling blend', 26),\n",
       " ('viognier', 25),\n",
       " ('cabernet sauvignon', 17),\n",
       " ('pinot gris', 16),\n",
       " ('malbec', 15),\n",
       " ('rhône-style white blend', 14)]"
      ]
     },
     "metadata": {},
     "output_type": "display_data"
    },
    {
     "name": "stdout",
     "output_type": "stream",
     "text": [
      "Cluster_11\n"
     ]
    },
    {
     "data": {
      "text/plain": [
       "[('pinot noir', 326),\n",
       " ('cabernet sauvignon', 159),\n",
       " ('red blend', 154),\n",
       " ('sangiovese', 65),\n",
       " ('bordeaux-style red blend', 60),\n",
       " ('tempranillo', 59),\n",
       " ('nebbiolo', 53),\n",
       " ('merlot', 44),\n",
       " ('syrah', 42),\n",
       " ('malbec', 33),\n",
       " ('shiraz', 27)]"
      ]
     },
     "metadata": {},
     "output_type": "display_data"
    }
   ],
   "source": [
    "cluster_1_variety = variety_counter(1)\n",
    "print('Cluster_1')\n",
    "display(cluster_1_variety[0:11])\n",
    "\n",
    "cluster_2_variety = variety_counter(2)\n",
    "print('Cluster_2')\n",
    "display(cluster_2_variety[0:11])\n",
    "\n",
    "cluster_3_variety = variety_counter(3)\n",
    "print('Cluster_3')\n",
    "display(cluster_3_variety[0:11])\n",
    "\n",
    "cluster_4_variety = variety_counter(4)\n",
    "print('Cluster_4')\n",
    "display(cluster_4_variety[0:11])\n",
    "\n",
    "cluster_5_variety = variety_counter(5)\n",
    "print('Cluster_5')\n",
    "display(cluster_5_variety[0:11])\n",
    "\n",
    "cluster_6_variety = variety_counter(6)\n",
    "print('Cluster_6')\n",
    "display(cluster_6_variety[0:11])\n",
    "\n",
    "cluster_7_variety = variety_counter(7)\n",
    "print('Cluster_7')\n",
    "display(cluster_7_variety[0:11])\n",
    "\n",
    "cluster_8_variety = variety_counter(8)\n",
    "print('Cluster_8')\n",
    "display(cluster_8_variety[0:11])\n",
    "\n",
    "cluster_9_variety = variety_counter(9)\n",
    "print('Cluster_9')\n",
    "display(cluster_9_variety[0:11])\n",
    "\n",
    "cluster_10_variety = variety_counter(10)\n",
    "print('Cluster_10')\n",
    "display(cluster_10_variety[0:11])\n",
    "\n",
    "cluster_11_variety = variety_counter(11)\n",
    "print('Cluster_11')\n",
    "display(cluster_11_variety[0:11])"
   ]
  },
  {
   "cell_type": "code",
   "execution_count": 247,
   "id": "607b3fbe",
   "metadata": {},
   "outputs": [
    {
     "name": "stdout",
     "output_type": "stream",
     "text": [
      "Cluster_1\n"
     ]
    },
    {
     "data": {
      "text/plain": [
       "[('california', 355),\n",
       " ('washington', 198),\n",
       " ('piedmont', 151),\n",
       " ('tuscany', 145),\n",
       " ('northern spain', 113),\n",
       " ('mendoza province', 63),\n",
       " ('oregon', 44),\n",
       " ('veneto', 21),\n",
       " ('sicily & sardinia', 19),\n",
       " ('south australia', 18),\n",
       " ('new york', 17)]"
      ]
     },
     "metadata": {},
     "output_type": "display_data"
    },
    {
     "name": "stdout",
     "output_type": "stream",
     "text": [
      "Cluster_2\n"
     ]
    },
    {
     "data": {
      "text/plain": [
       "[('california', 531),\n",
       " ('tuscany', 341),\n",
       " ('piedmont', 219),\n",
       " ('washington', 204),\n",
       " ('northern spain', 164),\n",
       " ('oregon', 99),\n",
       " ('veneto', 84),\n",
       " ('mendoza province', 60),\n",
       " ('southern italy', 58),\n",
       " ('sicily & sardinia', 53),\n",
       " ('central italy', 34)]"
      ]
     },
     "metadata": {},
     "output_type": "display_data"
    },
    {
     "name": "stdout",
     "output_type": "stream",
     "text": [
      "Cluster_3\n"
     ]
    },
    {
     "data": {
      "text/plain": [
       "[('california', 1266),\n",
       " ('piedmont', 453),\n",
       " ('tuscany', 443),\n",
       " ('washington', 347),\n",
       " ('mendoza province', 224),\n",
       " ('northern spain', 215),\n",
       " ('oregon', 114),\n",
       " ('sicily & sardinia', 86),\n",
       " ('new york', 49),\n",
       " ('veneto', 48),\n",
       " ('central italy', 47)]"
      ]
     },
     "metadata": {},
     "output_type": "display_data"
    },
    {
     "name": "stdout",
     "output_type": "stream",
     "text": [
      "Cluster_4\n"
     ]
    },
    {
     "data": {
      "text/plain": [
       "[('california', 415),\n",
       " ('piedmont', 149),\n",
       " ('tuscany', 115),\n",
       " ('northern spain', 83),\n",
       " ('washington', 83),\n",
       " ('mendoza province', 58),\n",
       " ('oregon', 23),\n",
       " ('central italy', 20),\n",
       " ('sicily & sardinia', 19),\n",
       " ('south australia', 18),\n",
       " ('southern italy', 16)]"
      ]
     },
     "metadata": {},
     "output_type": "display_data"
    },
    {
     "name": "stdout",
     "output_type": "stream",
     "text": [
      "Cluster_5\n"
     ]
    },
    {
     "data": {
      "text/plain": [
       "[('california', 2708),\n",
       " ('alsace', 754),\n",
       " ('new york', 660),\n",
       " ('washington', 580),\n",
       " ('veneto', 565),\n",
       " ('oregon', 509),\n",
       " ('champagne', 448),\n",
       " ('northeastern italy', 395),\n",
       " ('burgundy', 392),\n",
       " ('loire valley', 357),\n",
       " ('catalonia', 336)]"
      ]
     },
     "metadata": {},
     "output_type": "display_data"
    },
    {
     "name": "stdout",
     "output_type": "stream",
     "text": [
      "Cluster_6\n"
     ]
    },
    {
     "data": {
      "text/plain": [
       "[('california', 1426),\n",
       " ('tuscany', 553),\n",
       " ('piedmont', 355),\n",
       " ('washington', 231),\n",
       " ('sicily & sardinia', 162),\n",
       " ('veneto', 154),\n",
       " ('oregon', 140),\n",
       " ('southern italy', 113),\n",
       " ('northern spain', 112),\n",
       " ('central italy', 89),\n",
       " ('mendoza province', 77)]"
      ]
     },
     "metadata": {},
     "output_type": "display_data"
    },
    {
     "name": "stdout",
     "output_type": "stream",
     "text": [
      "Cluster_7\n"
     ]
    },
    {
     "data": {
      "text/plain": [
       "[('california', 1178),\n",
       " ('washington', 279),\n",
       " ('northern spain', 198),\n",
       " ('mendoza province', 186),\n",
       " ('tuscany', 160),\n",
       " ('oregon', 106),\n",
       " ('south australia', 91),\n",
       " ('veneto', 43),\n",
       " ('central italy', 37),\n",
       " ('sicily & sardinia', 35),\n",
       " ('piedmont', 35)]"
      ]
     },
     "metadata": {},
     "output_type": "display_data"
    },
    {
     "name": "stdout",
     "output_type": "stream",
     "text": [
      "Cluster_8\n"
     ]
    },
    {
     "data": {
      "text/plain": [
       "[('california', 1031),\n",
       " ('washington', 381),\n",
       " ('oregon', 281),\n",
       " ('northern spain', 228),\n",
       " ('tuscany', 202),\n",
       " ('piedmont', 168),\n",
       " ('mendoza province', 156),\n",
       " ('new york', 112),\n",
       " ('sicily & sardinia', 56),\n",
       " ('catalonia', 51),\n",
       " ('rhône valley', 41)]"
      ]
     },
     "metadata": {},
     "output_type": "display_data"
    },
    {
     "name": "stdout",
     "output_type": "stream",
     "text": [
      "Cluster_9\n"
     ]
    },
    {
     "data": {
      "text/plain": [
       "[('california', 1189),\n",
       " ('mendoza province', 179),\n",
       " ('tuscany', 159),\n",
       " ('northern spain', 155),\n",
       " ('washington', 117),\n",
       " ('sicily & sardinia', 67),\n",
       " ('piedmont', 53),\n",
       " ('south australia', 50),\n",
       " ('veneto', 48),\n",
       " ('southern italy', 45),\n",
       " ('central italy', 41)]"
      ]
     },
     "metadata": {},
     "output_type": "display_data"
    },
    {
     "name": "stdout",
     "output_type": "stream",
     "text": [
      "Cluster_10\n"
     ]
    },
    {
     "data": {
      "text/plain": [
       "[('california', 661),\n",
       " ('northern spain', 63),\n",
       " ('oregon', 55),\n",
       " ('washington', 53),\n",
       " ('mendoza province', 52),\n",
       " ('northeastern italy', 46),\n",
       " ('burgundy', 23),\n",
       " ('tuscany', 19),\n",
       " ('new york', 19),\n",
       " ('piedmont', 14),\n",
       " ('catalonia', 13)]"
      ]
     },
     "metadata": {},
     "output_type": "display_data"
    },
    {
     "name": "stdout",
     "output_type": "stream",
     "text": [
      "Cluster_11\n"
     ]
    },
    {
     "data": {
      "text/plain": [
       "[('california', 536),\n",
       " ('oregon', 114),\n",
       " ('washington', 110),\n",
       " ('tuscany', 106),\n",
       " ('northern spain', 90),\n",
       " ('piedmont', 62),\n",
       " ('mendoza province', 38),\n",
       " ('south australia', 32),\n",
       " ('rhône valley', 22),\n",
       " ('veneto', 20),\n",
       " ('southern italy', 15)]"
      ]
     },
     "metadata": {},
     "output_type": "display_data"
    }
   ],
   "source": [
    "cluster_1_province = province_counter(1)\n",
    "print('Cluster_1')\n",
    "display(cluster_1_province[0:11])\n",
    "\n",
    "cluster_2_province = province_counter(2)\n",
    "print('Cluster_2')\n",
    "display(cluster_2_province[0:11])\n",
    "\n",
    "cluster_3_province = province_counter(3)\n",
    "print('Cluster_3')\n",
    "display(cluster_3_province[0:11])\n",
    "\n",
    "cluster_4_province = province_counter(4)\n",
    "print('Cluster_4')\n",
    "display(cluster_4_province[0:11])\n",
    "\n",
    "cluster_5_province = province_counter(5)\n",
    "print('Cluster_5')\n",
    "display(cluster_5_province[0:11])\n",
    "\n",
    "cluster_6_province = province_counter(6)\n",
    "print('Cluster_6')\n",
    "display(cluster_6_province[0:11])\n",
    "\n",
    "cluster_7_province = province_counter(7)\n",
    "print('Cluster_7')\n",
    "display(cluster_7_province[0:11])\n",
    "\n",
    "cluster_8_province = province_counter(8)\n",
    "print('Cluster_8')\n",
    "display(cluster_8_province[0:11])\n",
    "\n",
    "cluster_9_province = province_counter(9)\n",
    "print('Cluster_9')\n",
    "display(cluster_9_province[0:11])\n",
    "\n",
    "cluster_10_province = province_counter(10)\n",
    "print('Cluster_10')\n",
    "display(cluster_10_province[0:11])\n",
    "\n",
    "cluster_11_province = province_counter(11)\n",
    "print('Cluster_11')\n",
    "display(cluster_11_province[0:11])"
   ]
  },
  {
   "cell_type": "code",
   "execution_count": 248,
   "id": "27ddb46c",
   "metadata": {},
   "outputs": [
    {
     "name": "stdout",
     "output_type": "stream",
     "text": [
      "Cluster_1\n"
     ]
    },
    {
     "data": {
      "text/plain": [
       "[('barolo', 108),\n",
       " ('columbia valley (wa)', 83),\n",
       " ('rioja', 53),\n",
       " ('brunello di montalcino', 43),\n",
       " ('mendoza', 40),\n",
       " ('chianti classico', 39),\n",
       " ('napa valley', 38),\n",
       " ('barbaresco', 36),\n",
       " ('red mountain', 29),\n",
       " ('paso robles', 27),\n",
       " ('russian river valley', 26)]"
      ]
     },
     "metadata": {},
     "output_type": "display_data"
    },
    {
     "name": "stdout",
     "output_type": "stream",
     "text": [
      "Cluster_2\n"
     ]
    },
    {
     "data": {
      "text/plain": [
       "[('barolo', 124),\n",
       " ('chianti classico', 105),\n",
       " ('rioja', 95),\n",
       " ('brunello di montalcino', 93),\n",
       " ('columbia valley (wa)', 70),\n",
       " ('toscana', 67),\n",
       " ('paso robles', 58),\n",
       " ('barbaresco', 54),\n",
       " ('russian river valley', 51),\n",
       " ('amarone della valpolicella classico', 47),\n",
       " ('willamette valley', 46)]"
      ]
     },
     "metadata": {},
     "output_type": "display_data"
    },
    {
     "name": "stdout",
     "output_type": "stream",
     "text": [
      "Cluster_3\n"
     ]
    },
    {
     "data": {
      "text/plain": [
       "[('barolo', 267),\n",
       " ('mendoza', 149),\n",
       " ('chianti classico', 135),\n",
       " ('barbaresco', 132),\n",
       " ('columbia valley (wa)', 131),\n",
       " ('toscana', 117),\n",
       " ('napa valley', 106),\n",
       " ('rioja', 103),\n",
       " ('russian river valley', 99),\n",
       " ('sta. rita hills', 91),\n",
       " ('paso robles', 79)]"
      ]
     },
     "metadata": {},
     "output_type": "display_data"
    },
    {
     "name": "stdout",
     "output_type": "stream",
     "text": [
      "Cluster_4\n"
     ]
    },
    {
     "data": {
      "text/plain": [
       "[('barolo', 88),\n",
       " ('napa valley', 50),\n",
       " ('rioja', 48),\n",
       " ('russian river valley', 45),\n",
       " ('mendoza', 41),\n",
       " ('barbaresco', 39),\n",
       " ('paso robles', 37),\n",
       " ('columbia valley (wa)', 34),\n",
       " ('toscana', 33),\n",
       " ('chianti classico', 29),\n",
       " ('brunello di montalcino', 20)]"
      ]
     },
     "metadata": {},
     "output_type": "display_data"
    },
    {
     "name": "stdout",
     "output_type": "stream",
     "text": [
      "Cluster_5\n"
     ]
    },
    {
     "data": {
      "text/plain": [
       "[('alsace', 666),\n",
       " ('finger lakes', 450),\n",
       " ('champagne', 448),\n",
       " ('russian river valley', 335),\n",
       " ('columbia valley (wa)', 263),\n",
       " ('cava', 258),\n",
       " ('willamette valley', 227),\n",
       " ('napa valley', 203),\n",
       " ('mendoza', 146),\n",
       " ('alto adige', 139),\n",
       " ('california', 137)]"
      ]
     },
     "metadata": {},
     "output_type": "display_data"
    },
    {
     "name": "stdout",
     "output_type": "stream",
     "text": [
      "Cluster_6\n"
     ]
    },
    {
     "data": {
      "text/plain": [
       "[('russian river valley', 165),\n",
       " ('barolo', 149),\n",
       " ('toscana', 146),\n",
       " ('paso robles', 135),\n",
       " ('chianti classico', 114),\n",
       " ('napa valley', 93),\n",
       " ('columbia valley (wa)', 85),\n",
       " ('sta. rita hills', 81),\n",
       " ('barbaresco', 75),\n",
       " ('sonoma coast', 74),\n",
       " ('brunello di montalcino', 71)]"
      ]
     },
     "metadata": {},
     "output_type": "display_data"
    },
    {
     "name": "stdout",
     "output_type": "stream",
     "text": [
      "Cluster_7\n"
     ]
    },
    {
     "data": {
      "text/plain": [
       "[('napa valley', 240),\n",
       " ('paso robles', 149),\n",
       " ('mendoza', 126),\n",
       " ('columbia valley (wa)', 121),\n",
       " ('rioja', 72),\n",
       " ('ribera del duero', 62),\n",
       " ('alexander valley', 51),\n",
       " ('toscana', 50),\n",
       " ('walla walla valley (wa)', 50),\n",
       " ('sonoma county', 40),\n",
       " ('russian river valley', 40)]"
      ]
     },
     "metadata": {},
     "output_type": "display_data"
    },
    {
     "name": "stdout",
     "output_type": "stream",
     "text": [
      "Cluster_8\n"
     ]
    },
    {
     "data": {
      "text/plain": [
       "[('columbia valley (wa)', 153),\n",
       " ('russian river valley', 136),\n",
       " ('willamette valley', 134),\n",
       " ('mendoza', 111),\n",
       " ('rioja', 104),\n",
       " ('barolo', 98),\n",
       " ('sonoma coast', 87),\n",
       " ('sta. rita hills', 74),\n",
       " ('paso robles', 70),\n",
       " ('walla walla valley (wa)', 63),\n",
       " ('finger lakes', 62)]"
      ]
     },
     "metadata": {},
     "output_type": "display_data"
    },
    {
     "name": "stdout",
     "output_type": "stream",
     "text": [
      "Cluster_9\n"
     ]
    },
    {
     "data": {
      "text/plain": [
       "[('napa valley', 148),\n",
       " ('paso robles', 135),\n",
       " ('mendoza', 114),\n",
       " ('ribera del duero', 65),\n",
       " ('toscana', 58),\n",
       " ('santa barbara county', 57),\n",
       " ('dry creek valley', 56),\n",
       " ('santa ynez valley', 52),\n",
       " ('california', 52),\n",
       " ('russian river valley', 49),\n",
       " ('brunello di montalcino', 41)]"
      ]
     },
     "metadata": {},
     "output_type": "display_data"
    },
    {
     "name": "stdout",
     "output_type": "stream",
     "text": [
      "Cluster_10\n"
     ]
    },
    {
     "data": {
      "text/plain": [
       "[('russian river valley', 116),\n",
       " ('napa valley', 70),\n",
       " ('carneros', 48),\n",
       " ('mendoza', 37),\n",
       " ('sonoma coast', 34),\n",
       " ('santa maria valley', 32),\n",
       " ('columbia valley (wa)', 32),\n",
       " ('santa lucia highlands', 31),\n",
       " ('rioja', 31),\n",
       " ('california', 26),\n",
       " ('willamette valley', 24)]"
      ]
     },
     "metadata": {},
     "output_type": "display_data"
    },
    {
     "name": "stdout",
     "output_type": "stream",
     "text": [
      "Cluster_11\n"
     ]
    },
    {
     "data": {
      "text/plain": [
       "[('napa valley', 82),\n",
       " ('russian river valley', 68),\n",
       " ('rioja', 58),\n",
       " ('willamette valley', 49),\n",
       " ('columbia valley (wa)', 46),\n",
       " ('sonoma coast', 41),\n",
       " ('barolo', 33),\n",
       " ('mendoza', 31),\n",
       " ('brunello di montalcino', 25),\n",
       " ('toscana', 24),\n",
       " ('chianti classico', 21)]"
      ]
     },
     "metadata": {},
     "output_type": "display_data"
    }
   ],
   "source": [
    "cluster_1_region = region_counter(1)\n",
    "print('Cluster_1')\n",
    "display(cluster_1_region[0:11])\n",
    "\n",
    "cluster_2_region = region_counter(2)\n",
    "print('Cluster_2')\n",
    "display(cluster_2_region[0:11])\n",
    "\n",
    "cluster_3_region = region_counter(3)\n",
    "print('Cluster_3')\n",
    "display(cluster_3_region[0:11])\n",
    "\n",
    "cluster_4_region = region_counter(4)\n",
    "print('Cluster_4')\n",
    "display(cluster_4_region[0:11])\n",
    "\n",
    "cluster_5_region = region_counter(5)\n",
    "print('Cluster_5')\n",
    "display(cluster_5_region[0:11])\n",
    "\n",
    "cluster_6_region = region_counter(6)\n",
    "print('Cluster_6')\n",
    "display(cluster_6_region[0:11])\n",
    "\n",
    "cluster_7_region = region_counter(7)\n",
    "print('Cluster_7')\n",
    "display(cluster_7_region[0:11])\n",
    "\n",
    "cluster_8_region = region_counter(8)\n",
    "print('Cluster_8')\n",
    "display(cluster_8_region[0:11])\n",
    "\n",
    "cluster_9_region = region_counter(9)\n",
    "print('Cluster_9')\n",
    "display(cluster_9_region[0:11])\n",
    "\n",
    "cluster_10_region = region_counter(10)\n",
    "print('Cluster_10')\n",
    "display(cluster_10_region[0:11])\n",
    "\n",
    "cluster_11_region = region_counter(11)\n",
    "print('Cluster_11')\n",
    "display(cluster_11_region[0:11])"
   ]
  },
  {
   "cell_type": "code",
   "execution_count": 249,
   "id": "0a1e642e",
   "metadata": {},
   "outputs": [],
   "source": [
    "scent_dict = {'floral': ['floral','iris', 'peony', 'elderflower', 'acacia', 'lilac', 'jasmine', 'honeysuckle', 'violet', 'lavender', 'rose', 'potpourri', 'hibiscus','flower','chamomile','daffodil' ], \n",
    "              'citrus' : ['lemongrass','citrus','citric', 'citrusy','lime','lemon','lemony','grapefruit','orange','marmalade','tangerine'],\n",
    "              'tree_fruit' : ['quince','apple','pear','peach','apricot','persimmon','prune','nectarine'],\n",
    "              'tropical_fruit' : ['banana','coconut','exotic','tropical','pineapple','mango','guava','kiwi','lychee', 'bubblegum','melon','papaya','honeydew','watermelon'],\n",
    "              'red_fruit' : ['cranberry','plum','currant','cherry','strawberry', 'raspberry','gooseberry'],\n",
    "              'black_fruit' : ['boysenberry','cassis','blackberry','blueberry','olive','elderberry'],\n",
    "              'dried_fruit' : ['raisin','raisiny','fig','date','fruitcake','candied','candy','sugar'],\n",
    "              'noble_rot' : ['beeswax','ginger','saffron','honey'],\n",
    "              'herbal' : ['minty','herbs','herb','herbal','thyme','mint','sage','rosemary','dill','menthol','oregano'],\n",
    "              'spice' : ['woodspice','nutmeg','pepper','peppercorn','cinammon','cardammom','anise','spice', 'fennel','eucalyptus','spicy','liquorice','clove'],\n",
    "              'vegetable' : ['rhubarb','tomato','jalapeno','bell','tomato-leaf','grass'],\n",
    "              'nut' : ['nut','pine','almond','nutty','hazelnut'],\n",
    "              'earth' : ['stoney','root','tea','earth','earthy','petroleum','petrol','kerosene','rocks','beet','soil','gravel','slate','clay','mineral','salt','salty','chalk'],\n",
    "              'microbial' : ['yeasty','yeast','microbial','mushroom','truffle','lager','sourdough','cream','milk','buttery','bread','creamy','butter','balsamic','vinegar'],\n",
    "              'sauvage' : ['sauvage','indigenous','wild','animal','meat','gamey','meaty','game'],\n",
    "              'aldehyde' : ['leather','chocolate','vanilla','cola','caramel','cocoa','leathery','toffee'],\n",
    "              'fumee' : ['barbecue','smoke','smokey','cigar','tobacco','barrel','coffee','mocha','smoked','charred'],\n",
    "              'wood' : ['wood','woody','cedar','oak','oaky','sandalwood','forest','acacia','pine']}"
   ]
  },
  {
   "cell_type": "markdown",
   "id": "d7869f9b",
   "metadata": {},
   "source": [
    "## Exploring clusters"
   ]
  },
  {
   "cell_type": "markdown",
   "id": "37ce635c",
   "metadata": {},
   "source": [
    "### Creating a dictionary with clusters as keys and flavor profiles as values "
   ]
  },
  {
   "cell_type": "code",
   "execution_count": 250,
   "id": "c68139e3",
   "metadata": {},
   "outputs": [],
   "source": [
    "cluster_dictionary = {1:['red_fruit','herbal','spice','aldehyde','fumee','wood'],2:['red_fruit','spice','earth','aldehyde','fumee'],3:['red_fruit','herbal','spice','wood'],4:['red_fruit','herbal','spice','aldehyde','wood'],5:['citrus','tree_fruit'],6:['red_fruit','spice'], 7:['red_fruit','spice'],8:['red_fruit','black_fruit','aldehyde','fumee'],9:['black_fruit','spice','aldehyde'],10:['citrus','tropical_fruit','microbial','aldehyde','wood'],11:['red_fruit','aldehyde','fumee','wood']}"
   ]
  },
  {
   "cell_type": "code",
   "execution_count": 251,
   "id": "11de5f3c",
   "metadata": {},
   "outputs": [
    {
     "data": {
      "text/plain": [
       "{1: ['red_fruit', 'herbal', 'spice', 'aldehyde', 'fumee', 'wood'],\n",
       " 2: ['red_fruit', 'spice', 'earth', 'aldehyde', 'fumee'],\n",
       " 3: ['red_fruit', 'herbal', 'spice', 'wood'],\n",
       " 4: ['red_fruit', 'herbal', 'spice', 'aldehyde', 'wood'],\n",
       " 5: ['citrus', 'tree_fruit'],\n",
       " 6: ['red_fruit', 'spice'],\n",
       " 7: ['red_fruit', 'spice'],\n",
       " 8: ['red_fruit', 'black_fruit', 'aldehyde', 'fumee'],\n",
       " 9: ['black_fruit', 'spice', 'aldehyde'],\n",
       " 10: ['citrus', 'tropical_fruit', 'microbial', 'aldehyde', 'wood'],\n",
       " 11: ['red_fruit', 'aldehyde', 'fumee', 'wood']}"
      ]
     },
     "execution_count": 251,
     "metadata": {},
     "output_type": "execute_result"
    }
   ],
   "source": [
    "cluster_dictionary"
   ]
  },
  {
   "cell_type": "markdown",
   "id": "0167db65",
   "metadata": {},
   "source": [
    "### Looking for possible notes in every cluster"
   ]
  },
  {
   "cell_type": "code",
   "execution_count": 252,
   "id": "26beb20e",
   "metadata": {},
   "outputs": [],
   "source": [
    "def find_possible_notes(cluster_number):   \n",
    "    \n",
    "    possible_notes = []\n",
    "\n",
    "    for key, value in scent_dict.items():\n",
    "            \n",
    "        if key in cluster_dictionary[cluster_number]:\n",
    "            possible_notes.append(value)\n",
    "        \n",
    "    from itertools import chain\n",
    "    pos_list = list(chain(*possible_notes))   \n",
    "\n",
    "    return pos_list     "
   ]
  },
  {
   "cell_type": "code",
   "execution_count": 253,
   "id": "ebf91cba",
   "metadata": {},
   "outputs": [],
   "source": [
    "notes_cluster_1 = find_possible_notes(1)\n",
    "notes_cluster_2 = find_possible_notes(2)\n",
    "notes_cluster_3 = find_possible_notes(3)\n",
    "notes_cluster_4 = find_possible_notes(4)\n",
    "notes_cluster_5 = find_possible_notes(5)\n",
    "notes_cluster_6 = find_possible_notes(6)\n",
    "notes_cluster_7 = find_possible_notes(7)\n",
    "notes_cluster_8 = find_possible_notes(8)\n",
    "notes_cluster_9 = find_possible_notes(9)\n",
    "notes_cluster_10 = find_possible_notes(10)\n",
    "notes_cluster_11 = find_possible_notes(11)"
   ]
  },
  {
   "cell_type": "markdown",
   "id": "722affe6",
   "metadata": {},
   "source": [
    "### Finding most common words in every cluster\n",
    "\n",
    "We wanted to find most common words in every cluster to be able to define the flavor profile of each cluster more exactly and in detail. "
   ]
  },
  {
   "cell_type": "code",
   "execution_count": 254,
   "id": "f0347838",
   "metadata": {},
   "outputs": [],
   "source": [
    "def wordfreq_counter():\n",
    "    \n",
    "    wordfreq = {}\n",
    "        \n",
    "    for value in wine[wine['cluster']==cluster_number]['province']:\n",
    "        province_list.append(value)\n",
    "            \n",
    "    for word in province_list:\n",
    "            if ( word not in wordfreq.keys() ): \n",
    "                wordfreq[word] = 1 \n",
    "            else: \n",
    "                wordfreq[word] += 1   \n",
    "                \n",
    "    sorted_tuple = sorted(wordfreq.items(), key=lambda word: word[1], reverse=True)\n",
    "                \n",
    "    return sorted_tuple"
   ]
  },
  {
   "cell_type": "code",
   "execution_count": 255,
   "id": "88f16e12",
   "metadata": {},
   "outputs": [],
   "source": [
    "def find_most_common_notes_in_a_cluster(cluster_number, list_of_scents):\n",
    "            \n",
    "    wordfreq = {}\n",
    "    \n",
    "    for word in list_of_scents:\n",
    "        wordfreq[word] = 0\n",
    "    \n",
    "    for cell in wine[wine['cluster']==cluster_number]['description']:\n",
    "        for word in cell:\n",
    "            if ( word in wordfreq.keys() ): \n",
    "                wordfreq[word] += 1 \n",
    "            else: \n",
    "                continue \n",
    "                \n",
    "    sorted_tuple = sorted(wordfreq.items(), key=lambda word: word[1], reverse=True)\n",
    "    \n",
    "    return sorted_tuple"
   ]
  },
  {
   "cell_type": "code",
   "execution_count": 256,
   "id": "d205778e",
   "metadata": {},
   "outputs": [
    {
     "name": "stdout",
     "output_type": "stream",
     "text": [
      "Cluster_1\n"
     ]
    },
    {
     "data": {
      "text/plain": [
       "[('oak', 646),\n",
       " ('cherry', 548),\n",
       " ('vanilla', 508),\n",
       " ('spice', 478),\n",
       " ('chocolate', 300),\n",
       " ('herb', 289),\n",
       " ('coffee', 268),\n",
       " ('tobacco', 252),\n",
       " ('plum', 249),\n",
       " ('leather', 239),\n",
       " ('pepper', 200),\n",
       " ('barrel', 190),\n",
       " ('wood', 183),\n",
       " ('cedar', 146),\n",
       " ('cola', 137),\n",
       " ('mocha', 136),\n",
       " ('spicy', 129),\n",
       " ('mint', 126),\n",
       " ('herbs', 118),\n",
       " ('herbal', 118),\n",
       " ('sage', 108)]"
      ]
     },
     "metadata": {},
     "output_type": "display_data"
    },
    {
     "name": "stdout",
     "output_type": "stream",
     "text": [
      "Cluster_2\n"
     ]
    },
    {
     "data": {
      "text/plain": [
       "[('cherry', 1073),\n",
       " ('spice', 937),\n",
       " ('tobacco', 716),\n",
       " ('leather', 544),\n",
       " ('plum', 527),\n",
       " ('vanilla', 457),\n",
       " ('earth', 432),\n",
       " ('chocolate', 424),\n",
       " ('earthy', 414),\n",
       " ('pepper', 411),\n",
       " ('coffee', 391),\n",
       " ('cola', 252),\n",
       " ('raspberry', 241),\n",
       " ('mocha', 225),\n",
       " ('barrel', 197),\n",
       " ('mineral', 191),\n",
       " ('spicy', 186),\n",
       " ('clove', 165),\n",
       " ('smoke', 161),\n",
       " ('soil', 158),\n",
       " ('anise', 137)]"
      ]
     },
     "metadata": {},
     "output_type": "display_data"
    },
    {
     "name": "stdout",
     "output_type": "stream",
     "text": [
      "Cluster_3\n"
     ]
    },
    {
     "data": {
      "text/plain": [
       "[('cherry', 1988),\n",
       " ('spice', 1666),\n",
       " ('oak', 1200),\n",
       " ('plum', 1012),\n",
       " ('herb', 1006),\n",
       " ('pepper', 979),\n",
       " ('raspberry', 606),\n",
       " ('spicy', 588),\n",
       " ('herbal', 553),\n",
       " ('anise', 427),\n",
       " ('currant', 423),\n",
       " ('mint', 401),\n",
       " ('sage', 386),\n",
       " ('clove', 374),\n",
       " ('cedar', 321),\n",
       " ('herbs', 313),\n",
       " ('wood', 293),\n",
       " ('cranberry', 292),\n",
       " ('menthol', 273),\n",
       " ('strawberry', 226),\n",
       " ('oaky', 196)]"
      ]
     },
     "metadata": {},
     "output_type": "display_data"
    },
    {
     "name": "stdout",
     "output_type": "stream",
     "text": [
      "Cluster_4\n"
     ]
    },
    {
     "data": {
      "text/plain": [
       "[('cherry', 631),\n",
       " ('spice', 591),\n",
       " ('oak', 482),\n",
       " ('vanilla', 458),\n",
       " ('chocolate', 278),\n",
       " ('plum', 271),\n",
       " ('leather', 241),\n",
       " ('pepper', 236),\n",
       " ('herb', 211),\n",
       " ('cola', 187),\n",
       " ('raspberry', 148),\n",
       " ('spicy', 148),\n",
       " ('anise', 122),\n",
       " ('currant', 121),\n",
       " ('mint', 103),\n",
       " ('herbal', 97),\n",
       " ('wood', 90),\n",
       " ('cedar', 90),\n",
       " ('clove', 86),\n",
       " ('menthol', 72),\n",
       " ('oaky', 69)]"
      ]
     },
     "metadata": {},
     "output_type": "display_data"
    },
    {
     "name": "stdout",
     "output_type": "stream",
     "text": [
      "Cluster_5\n"
     ]
    },
    {
     "data": {
      "text/plain": [
       "[('citrus', 4227),\n",
       " ('apple', 3718),\n",
       " ('lemon', 3571),\n",
       " ('lime', 2107),\n",
       " ('peach', 2024),\n",
       " ('orange', 1997),\n",
       " ('pear', 1563),\n",
       " ('grapefruit', 1326),\n",
       " ('apricot', 758),\n",
       " ('tangerine', 713),\n",
       " ('nectarine', 527),\n",
       " ('citrusy', 447),\n",
       " ('lemony', 427),\n",
       " ('citric', 232),\n",
       " ('lemongrass', 117),\n",
       " ('marmalade', 99),\n",
       " ('quince', 92),\n",
       " ('prune', 22),\n",
       " ('persimmon', 8)]"
      ]
     },
     "metadata": {},
     "output_type": "display_data"
    },
    {
     "name": "stdout",
     "output_type": "stream",
     "text": [
      "Cluster_6\n"
     ]
    },
    {
     "data": {
      "text/plain": [
       "[('cherry', 2682),\n",
       " ('spice', 2192),\n",
       " ('pepper', 1253),\n",
       " ('plum', 1119),\n",
       " ('raspberry', 772),\n",
       " ('spicy', 584),\n",
       " ('currant', 457),\n",
       " ('clove', 443),\n",
       " ('strawberry', 356),\n",
       " ('anise', 298),\n",
       " ('cranberry', 267),\n",
       " ('nutmeg', 130),\n",
       " ('peppercorn', 63),\n",
       " ('fennel', 59),\n",
       " ('eucalyptus', 53),\n",
       " ('woodspice', 21),\n",
       " ('gooseberry', 13),\n",
       " ('cinammon', 0),\n",
       " ('cardammom', 0),\n",
       " ('liquorice', 0)]"
      ]
     },
     "metadata": {},
     "output_type": "display_data"
    },
    {
     "name": "stdout",
     "output_type": "stream",
     "text": [
      "Cluster_7\n"
     ]
    },
    {
     "data": {
      "text/plain": [
       "[('cherry', 1252),\n",
       " ('plum', 688),\n",
       " ('currant', 381),\n",
       " ('raspberry', 236),\n",
       " ('cranberry', 57),\n",
       " ('strawberry', 57),\n",
       " ('spice', 29),\n",
       " ('pepper', 14),\n",
       " ('spicy', 6),\n",
       " ('gooseberry', 1),\n",
       " ('nutmeg', 1),\n",
       " ('anise', 1),\n",
       " ('clove', 1),\n",
       " ('woodspice', 0),\n",
       " ('peppercorn', 0),\n",
       " ('cinammon', 0),\n",
       " ('cardammom', 0),\n",
       " ('fennel', 0),\n",
       " ('eucalyptus', 0),\n",
       " ('liquorice', 0)]"
      ]
     },
     "metadata": {},
     "output_type": "display_data"
    },
    {
     "name": "stdout",
     "output_type": "stream",
     "text": [
      "Cluster_8\n"
     ]
    },
    {
     "data": {
      "text/plain": [
       "[('cherry', 1915),\n",
       " ('plum', 1070),\n",
       " ('raspberry', 652),\n",
       " ('cranberry', 363),\n",
       " ('strawberry', 316),\n",
       " ('currant', 275),\n",
       " ('blackberry', 175),\n",
       " ('vanilla', 149),\n",
       " ('cola', 134),\n",
       " ('chocolate', 132),\n",
       " ('leather', 129),\n",
       " ('tobacco', 113),\n",
       " ('coffee', 93),\n",
       " ('cassis', 72),\n",
       " ('blueberry', 67),\n",
       " ('smoke', 55),\n",
       " ('mocha', 48),\n",
       " ('olive', 46),\n",
       " ('barrel', 44),\n",
       " ('leathery', 41),\n",
       " ('cocoa', 39)]"
      ]
     },
     "metadata": {},
     "output_type": "display_data"
    },
    {
     "name": "stdout",
     "output_type": "stream",
     "text": [
      "Cluster_9\n"
     ]
    },
    {
     "data": {
      "text/plain": [
       "[('blackberry', 1568),\n",
       " ('spice', 1062),\n",
       " ('pepper', 726),\n",
       " ('chocolate', 604),\n",
       " ('vanilla', 469),\n",
       " ('cassis', 450),\n",
       " ('blueberry', 409),\n",
       " ('spicy', 345),\n",
       " ('leather', 222),\n",
       " ('boysenberry', 169),\n",
       " ('cola', 161),\n",
       " ('olive', 143),\n",
       " ('anise', 142),\n",
       " ('clove', 138),\n",
       " ('cocoa', 85),\n",
       " ('nutmeg', 76),\n",
       " ('elderberry', 72),\n",
       " ('caramel', 67),\n",
       " ('peppercorn', 61),\n",
       " ('leathery', 50),\n",
       " ('fennel', 44)]"
      ]
     },
     "metadata": {},
     "output_type": "display_data"
    },
    {
     "name": "stdout",
     "output_type": "stream",
     "text": [
      "Cluster_10\n"
     ]
    },
    {
     "data": {
      "text/plain": [
       "[('oak', 788),\n",
       " ('vanilla', 585),\n",
       " ('creamy', 316),\n",
       " ('pineapple', 297),\n",
       " ('tropical', 231),\n",
       " ('lemon', 183),\n",
       " ('citrus', 180),\n",
       " ('orange', 154),\n",
       " ('oaky', 149),\n",
       " ('caramel', 133),\n",
       " ('cream', 129),\n",
       " ('melon', 122),\n",
       " ('lime', 120),\n",
       " ('butter', 120),\n",
       " ('wood', 97),\n",
       " ('buttery', 87),\n",
       " ('coconut', 78),\n",
       " ('exotic', 77),\n",
       " ('mango', 72),\n",
       " ('chocolate', 69),\n",
       " ('banana', 45)]"
      ]
     },
     "metadata": {},
     "output_type": "display_data"
    },
    {
     "name": "stdout",
     "output_type": "stream",
     "text": [
      "Cluster_11\n"
     ]
    },
    {
     "data": {
      "text/plain": [
       "[('oak', 977),\n",
       " ('cherry', 689),\n",
       " ('vanilla', 506),\n",
       " ('plum', 339),\n",
       " ('chocolate', 301),\n",
       " ('coffee', 203),\n",
       " ('raspberry', 201),\n",
       " ('cola', 201),\n",
       " ('wood', 195),\n",
       " ('cedar', 188),\n",
       " ('tobacco', 171),\n",
       " ('barrel', 164),\n",
       " ('currant', 149),\n",
       " ('mocha', 121),\n",
       " ('leather', 101),\n",
       " ('oaky', 86),\n",
       " ('smoke', 82),\n",
       " ('sandalwood', 72),\n",
       " ('caramel', 63),\n",
       " ('strawberry', 60),\n",
       " ('cranberry', 52)]"
      ]
     },
     "metadata": {},
     "output_type": "display_data"
    }
   ],
   "source": [
    "clust_1 = find_most_common_notes_in_a_cluster(1,notes_cluster_1)\n",
    "print('Cluster_1')\n",
    "display(clust_1[0:21])\n",
    "\n",
    "clust_2 = find_most_common_notes_in_a_cluster(2,notes_cluster_2)\n",
    "print('Cluster_2')\n",
    "display(clust_2[0:21])\n",
    "\n",
    "clust_3 = find_most_common_notes_in_a_cluster(3,notes_cluster_3)\n",
    "print('Cluster_3')\n",
    "display( clust_3[0:21])\n",
    "\n",
    "clust_4 = find_most_common_notes_in_a_cluster(4,notes_cluster_4)\n",
    "print('Cluster_4')\n",
    "display( clust_4[0:21])\n",
    "\n",
    "clust_5 = find_most_common_notes_in_a_cluster(5,notes_cluster_5)\n",
    "print('Cluster_5')\n",
    "display( clust_5[0:21])\n",
    "\n",
    "clust_6 = find_most_common_notes_in_a_cluster(6,notes_cluster_6)\n",
    "print('Cluster_6')\n",
    "display( clust_6[0:21])\n",
    "\n",
    "clust_7 = find_most_common_notes_in_a_cluster(7,notes_cluster_7)\n",
    "print('Cluster_7')\n",
    "display( clust_7[0:21])\n",
    "\n",
    "clust_8 = find_most_common_notes_in_a_cluster(8,notes_cluster_8)\n",
    "print('Cluster_8')\n",
    "display( clust_8[0:21])\n",
    "\n",
    "clust_9 = find_most_common_notes_in_a_cluster(9,notes_cluster_9)\n",
    "print('Cluster_9')\n",
    "display( clust_9[0:21])\n",
    "\n",
    "clust_10 = find_most_common_notes_in_a_cluster(10,notes_cluster_10)\n",
    "print('Cluster_10')\n",
    "display( clust_10[0:21])\n",
    "\n",
    "clust_11 = find_most_common_notes_in_a_cluster(11,notes_cluster_11)\n",
    "print('Cluster_11')\n",
    "display( clust_11[0:21])"
   ]
  },
  {
   "cell_type": "code",
   "execution_count": 257,
   "id": "bd667589",
   "metadata": {},
   "outputs": [],
   "source": [
    "dict_of_clusters = {'cluster1': clust_1[0:11],'cluster2':clust_2[0:11],'cluster3':clust_3[0:11],'cluster4':clust_4[0:11],'cluster5':clust_5[0:11],'cluster6':clust_6[0:11],'cluster7':clust_7[0:11],'cluster8':clust_8[0:11],'cluster9':clust_9[0:11],'cluster10':clust_10[0:11],'cluster11':clust_11[0:11]}"
   ]
  },
  {
   "cell_type": "code",
   "execution_count": 258,
   "id": "e9ad4ae9",
   "metadata": {},
   "outputs": [
    {
     "data": {
      "text/html": [
       "<div>\n",
       "<style scoped>\n",
       "    .dataframe tbody tr th:only-of-type {\n",
       "        vertical-align: middle;\n",
       "    }\n",
       "\n",
       "    .dataframe tbody tr th {\n",
       "        vertical-align: top;\n",
       "    }\n",
       "\n",
       "    .dataframe thead th {\n",
       "        text-align: right;\n",
       "    }\n",
       "</style>\n",
       "<table border=\"1\" class=\"dataframe\">\n",
       "  <thead>\n",
       "    <tr style=\"text-align: right;\">\n",
       "      <th></th>\n",
       "      <th>cluster</th>\n",
       "      <th>scent_note</th>\n",
       "      <th>count</th>\n",
       "    </tr>\n",
       "  </thead>\n",
       "  <tbody>\n",
       "    <tr>\n",
       "      <th>0</th>\n",
       "      <td>cluster1</td>\n",
       "      <td>oak</td>\n",
       "      <td>646</td>\n",
       "    </tr>\n",
       "    <tr>\n",
       "      <th>1</th>\n",
       "      <td>cluster1</td>\n",
       "      <td>cherry</td>\n",
       "      <td>548</td>\n",
       "    </tr>\n",
       "    <tr>\n",
       "      <th>2</th>\n",
       "      <td>cluster1</td>\n",
       "      <td>vanilla</td>\n",
       "      <td>508</td>\n",
       "    </tr>\n",
       "    <tr>\n",
       "      <th>3</th>\n",
       "      <td>cluster1</td>\n",
       "      <td>spice</td>\n",
       "      <td>478</td>\n",
       "    </tr>\n",
       "    <tr>\n",
       "      <th>4</th>\n",
       "      <td>cluster1</td>\n",
       "      <td>chocolate</td>\n",
       "      <td>300</td>\n",
       "    </tr>\n",
       "    <tr>\n",
       "      <th>...</th>\n",
       "      <td>...</td>\n",
       "      <td>...</td>\n",
       "      <td>...</td>\n",
       "    </tr>\n",
       "    <tr>\n",
       "      <th>116</th>\n",
       "      <td>cluster11</td>\n",
       "      <td>raspberry</td>\n",
       "      <td>201</td>\n",
       "    </tr>\n",
       "    <tr>\n",
       "      <th>117</th>\n",
       "      <td>cluster11</td>\n",
       "      <td>cola</td>\n",
       "      <td>201</td>\n",
       "    </tr>\n",
       "    <tr>\n",
       "      <th>118</th>\n",
       "      <td>cluster11</td>\n",
       "      <td>wood</td>\n",
       "      <td>195</td>\n",
       "    </tr>\n",
       "    <tr>\n",
       "      <th>119</th>\n",
       "      <td>cluster11</td>\n",
       "      <td>cedar</td>\n",
       "      <td>188</td>\n",
       "    </tr>\n",
       "    <tr>\n",
       "      <th>120</th>\n",
       "      <td>cluster11</td>\n",
       "      <td>tobacco</td>\n",
       "      <td>171</td>\n",
       "    </tr>\n",
       "  </tbody>\n",
       "</table>\n",
       "<p>121 rows × 3 columns</p>\n",
       "</div>"
      ],
      "text/plain": [
       "       cluster scent_note  count\n",
       "0     cluster1        oak    646\n",
       "1     cluster1     cherry    548\n",
       "2     cluster1    vanilla    508\n",
       "3     cluster1      spice    478\n",
       "4     cluster1  chocolate    300\n",
       "..         ...        ...    ...\n",
       "116  cluster11  raspberry    201\n",
       "117  cluster11       cola    201\n",
       "118  cluster11       wood    195\n",
       "119  cluster11      cedar    188\n",
       "120  cluster11    tobacco    171\n",
       "\n",
       "[121 rows x 3 columns]"
      ]
     },
     "execution_count": 258,
     "metadata": {},
     "output_type": "execute_result"
    }
   ],
   "source": [
    "df = pd.DataFrame(\n",
    "    [[k, v[0], v[1]] for k, ls_v in dict_of_clusters.items() for v in ls_v],\n",
    "    columns=['cluster','scent_note','count']\n",
    "    )\n",
    "\n",
    "df"
   ]
  },
  {
   "cell_type": "markdown",
   "id": "da7208d3",
   "metadata": {},
   "source": [
    "## Finding final names for each cluster"
   ]
  },
  {
   "cell_type": "markdown",
   "id": "f8871a73",
   "metadata": {},
   "source": [
    "### Version with wine examples"
   ]
  },
  {
   "cell_type": "code",
   "execution_count": 259,
   "id": "4f37f7f5",
   "metadata": {},
   "outputs": [],
   "source": [
    "cluster_description_dict = {'cluster1' : \"wood and smoky notes, cherry, plum, vanilla, coffee, tobacco, leather; wine examples : pinot noir, barolo, rioja, brunello di montalcino, chianti, barbaresco\",\n",
    "                            'cluster2' : \"earthy and mineral notes, red fruit, tobacco, chocolate and spices; wine examples: zinfandel, syrah,  barbaresco, tempranillo, rioja, tempranillo blends\",\n",
    "                            'cluster3' : \"strong red fruit notes, sage, mint and spices;wine examples: bordeaux style blends, rhone style blends, sangiovese, rioja, rose\",\n",
    "                            'cluster4' : \"cherry and berry notes, oak wood, spices, vanilla and chocolate;wine examples: pinot noir, cabernet sauvignon, red blends, malbec, brunello di montalcino\",\n",
    "                            'cluster5' : \"citrus fruit, lemongrass, marmalade, peach, apricot, pear and apple;wine examples: lighter white wines, chardonnay, riesling, sauvignon blanc, sparkling blend, rose, pinot gris, champagne, verdejo\",\n",
    "                            'cluster6' : \"berries, strong spicy notes of nutmeg, pepper, cloves and anise; wine examples: rose blends, sparkling rose, lambrusco, red blends, barbera, nero d’avola, grenache noir, salice salentino\",\n",
    "                            \"cluster7\" : \"fruity notes of cherry, plums, currants, raspberry and strawberry;wine examples: tempranillo blend, ribera del duero, pinot noir, malbec, cabernet franc, negroamaro\",\n",
    "                            'cluster8' : \"strong fruit notes mixed with vanilla, chocolate, coffee, tobacco and cocoa;wine examples: rose, malbec, heavier white wines, nebbiolo\",\n",
    "                            \"cluster9\" : \"creamy notes of vanilla, caramel and coconut mixed with tropical and citrus fruit;wine examples: heavier white wines, semillon-chardonnay, chardonnay, pinot grigio, champagne, tempranillo, pinot noir\",\n",
    "                            'cluster10' : \"creamy notes of vanilla, caramel and coconut mixed with tropical and citrus fruit;wine examples: heavier white wines, semillon-chardonnay, chardonnay, pinot grigio, champagne, tempranillo, pinot noir\",\n",
    "                            'cluster11' : \"barrel notes, coffee, caramel and chocolate mixed with fruit and wood notes like oak cedar, and sandalwood;wine examples: pinot, cabernet, ribera, rioja, sangiovese\"\n",
    "                           }"
   ]
  },
  {
   "cell_type": "markdown",
   "id": "c368f516",
   "metadata": {},
   "source": [
    "### Version without wine examples"
   ]
  },
  {
   "cell_type": "code",
   "execution_count": 261,
   "id": "cb0c71f1",
   "metadata": {},
   "outputs": [],
   "source": [
    "cluster_name_dict = {'cluster1' : \"wood and smoky notes, cherry, plum, vanilla, coffee, tobacco, leather; wine examples\",\n",
    "                    'cluster2' : \"earthy and mineral notes, red fruit, tobacco, chocolate and spices\",\n",
    "                    'cluster3' : \"strong red fruit notes, sage, mint and spices\",\n",
    "                    'cluster4' : \"cherry and berry notes, oak wood, spices, vanilla and chocolate\",\n",
    "                    'cluster5' : \"citrus fruit, lemongrass, marmalade, peach, apricot, pear and apple\",\n",
    "                    'cluster6' : \"berries, strong spicy notes of nutmeg, pepper, cloves and anise\",\n",
    "                    \"cluster7\" : \"fruity notes of cherry, plums, currants, raspberry and strawberry\",\n",
    "                    'cluster8' : \"strong fruit notes mixed with vanilla, chocolate, coffee, tobacco and cocoa\",\n",
    "                    \"cluster9\" : \"strong black fruit notes of blackberry, cassis or elderberry, mixed with various spices\",\n",
    "                    'cluster10' : \"creamy notes of vanilla, caramel and coconut mixed with tropical and citrus fruit\",\n",
    "                    'cluster11' : \"barrel notes, coffee, caramel and chocolate mixed with fruit and wood notes like oak, cedar, and sandalwood\"\n",
    "                    }"
   ]
  }
 ],
 "metadata": {
  "kernelspec": {
   "display_name": "Python 3 (ipykernel)",
   "language": "python",
   "name": "python3"
  },
  "language_info": {
   "codemirror_mode": {
    "name": "ipython",
    "version": 3
   },
   "file_extension": ".py",
   "mimetype": "text/x-python",
   "name": "python",
   "nbconvert_exporter": "python",
   "pygments_lexer": "ipython3",
   "version": "3.9.7"
  },
  "toc": {
   "base_numbering": 1,
   "nav_menu": {},
   "number_sections": true,
   "sideBar": true,
   "skip_h1_title": false,
   "title_cell": "Table of Contents",
   "title_sidebar": "Contents",
   "toc_cell": false,
   "toc_position": {},
   "toc_section_display": true,
   "toc_window_display": true
  }
 },
 "nbformat": 4,
 "nbformat_minor": 5
}
