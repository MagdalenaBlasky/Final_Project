{
 "cells": [
  {
   "cell_type": "code",
   "execution_count": 1,
   "id": "e15cd128",
   "metadata": {},
   "outputs": [],
   "source": [
    "import pandas as pd\n",
    "import numpy as np\n",
    "\n",
    "from bs4 import BeautifulSoup\n",
    "\n",
    "import matplotlib.pyplot as plt\n",
    "import seaborn as sns\n",
    "\n",
    "import re\n",
    "\n",
    "import nltk\n",
    "\n",
    "%matplotlib inline\n",
    "\n",
    "wine = pd.read_csv('data/wine_cleaned_dataframe.csv')"
   ]
  },
  {
   "cell_type": "code",
   "execution_count": 13,
   "id": "116b87a0",
   "metadata": {},
   "outputs": [],
   "source": [
    "from nltk.stem import WordNetLemmatizer\n",
    "\n",
    "lem = WordNetLemmatizer()"
   ]
  },
  {
   "cell_type": "code",
   "execution_count": 21,
   "id": "74c34357",
   "metadata": {},
   "outputs": [],
   "source": [
    "from nltk.corpus import stopwords\n",
    "\n",
    "stop_words = list(stopwords.words('english')) "
   ]
  },
  {
   "cell_type": "code",
   "execution_count": 6,
   "id": "ffb9f44a",
   "metadata": {},
   "outputs": [],
   "source": [
    "def clean_text(string):\n",
    "    \n",
    "    string = re.sub(r'\\W+',' ',string) # Replace everything non-alpahnumeric by ' '\n",
    "    string = re.sub(r'\\s+',' ',string) # Replace one or more whitespaces by  ' '\n",
    "    string = re.sub(r'\\d+',' ',string) # Replace one or more digits by  ' '\n",
    "    \n",
    "    return string\n",
    "\n",
    "\n",
    "def tokenize_and_lemmatize_string(string):\n",
    "    \n",
    "    tokenized_string = nltk.word_tokenize(string)\n",
    "    \n",
    "    lemmatized_tokens = []\n",
    "    \n",
    "    for word in tokenized_string:\n",
    "        lem.lemmatize(word)\n",
    "        lemmatized_tokens.append(word) \n",
    "        \n",
    "    return lemmatized_tokens\n",
    "\n",
    "\n",
    "def pos_tagger(lemmatized_tokens):\n",
    "    \n",
    "    tagged_words = nltk.pos_tag(lemmatized_tokens)\n",
    "    \n",
    "    return tagged_words\n",
    "    \n",
    "\n",
    "def remove_unnecessary_pos_tags(tagged_words):\n",
    "    \n",
    "    selected_tags = ['JJ','NN','NNP']\n",
    "    \n",
    "    selected_words = []\n",
    "\n",
    "    for tup in tagged_words:\n",
    "        if tup[1] in selected_tags:\n",
    "            selected_words.append(tup[0])\n",
    "        else:\n",
    "            continue\n",
    "    \n",
    "    return selected_words\n",
    "\n",
    "\n",
    "    \n",
    "def remove_stopwords(selected_words):\n",
    "    \n",
    "    selected_words_1 = []\n",
    "\n",
    "    for word in selected_words:\n",
    "        if word not in stop_words:\n",
    "            selected_words_1.append(word)\n",
    "        else:\n",
    "            continue\n",
    "        \n",
    "    return selected_words_1  \n",
    "    \n",
    "    \n",
    "\n",
    "def remove_short_words(selected_words_1):\n",
    "    \n",
    "    selected_words_2 = []\n",
    "\n",
    "    for word in selected_words_1:\n",
    "        if len(word) > 2:\n",
    "            selected_words_2.append(word)\n",
    "        else:\n",
    "            continue\n",
    "\n",
    "    return selected_words_2\n",
    "   "
   ]
  },
  {
   "cell_type": "code",
   "execution_count": 4,
   "id": "f073a391",
   "metadata": {},
   "outputs": [],
   "source": [
    "example = wine['description'][0]"
   ]
  },
  {
   "cell_type": "code",
   "execution_count": 8,
   "id": "fda2105c",
   "metadata": {},
   "outputs": [
    {
     "data": {
      "text/plain": [
       "\"aromas include tropical fruit, broom, brimstone and dried herb. the palate isn't overly expressive, offering unripened apple, citrus and dried sage alongside brisk acidity.\""
      ]
     },
     "execution_count": 8,
     "metadata": {},
     "output_type": "execute_result"
    }
   ],
   "source": [
    "example"
   ]
  },
  {
   "cell_type": "code",
   "execution_count": 11,
   "id": "34703660",
   "metadata": {},
   "outputs": [
    {
     "data": {
      "text/plain": [
       "'aromas include tropical fruit broom brimstone and dried herb the palate isn t overly expressive offering unripened apple citrus and dried sage alongside brisk acidity '"
      ]
     },
     "execution_count": 11,
     "metadata": {},
     "output_type": "execute_result"
    }
   ],
   "source": [
    "## step 1 cleaning\n",
    "\n",
    "clean_example = clean_text (example)\n",
    "\n",
    "clean_example"
   ]
  },
  {
   "cell_type": "code",
   "execution_count": 16,
   "id": "d9f90f71",
   "metadata": {},
   "outputs": [
    {
     "data": {
      "text/plain": [
       "['aromas',\n",
       " 'include',\n",
       " 'tropical',\n",
       " 'fruit',\n",
       " 'broom',\n",
       " 'brimstone',\n",
       " 'and',\n",
       " 'dried',\n",
       " 'herb',\n",
       " 'the',\n",
       " 'palate',\n",
       " 'isn',\n",
       " 't',\n",
       " 'overly',\n",
       " 'expressive',\n",
       " 'offering',\n",
       " 'unripened',\n",
       " 'apple',\n",
       " 'citrus',\n",
       " 'and',\n",
       " 'dried',\n",
       " 'sage',\n",
       " 'alongside',\n",
       " 'brisk',\n",
       " 'acidity']"
      ]
     },
     "execution_count": 16,
     "metadata": {},
     "output_type": "execute_result"
    }
   ],
   "source": [
    "## step 2 tokenize\n",
    "\n",
    "tokenized_example = tokenize_and_lemmatize_string (clean_example)\n",
    "tokenized_example"
   ]
  },
  {
   "cell_type": "code",
   "execution_count": 18,
   "id": "5a2409ca",
   "metadata": {},
   "outputs": [
    {
     "data": {
      "text/plain": [
       "[('aromas', 'NNS'),\n",
       " ('include', 'VBP'),\n",
       " ('tropical', 'JJ'),\n",
       " ('fruit', 'NN'),\n",
       " ('broom', 'NN'),\n",
       " ('brimstone', 'NN'),\n",
       " ('and', 'CC'),\n",
       " ('dried', 'VBD'),\n",
       " ('herb', 'NN'),\n",
       " ('the', 'DT'),\n",
       " ('palate', 'NN'),\n",
       " ('isn', 'NN'),\n",
       " ('t', 'VBD'),\n",
       " ('overly', 'RB'),\n",
       " ('expressive', 'JJ'),\n",
       " ('offering', 'NN'),\n",
       " ('unripened', 'JJ'),\n",
       " ('apple', 'NN'),\n",
       " ('citrus', 'NN'),\n",
       " ('and', 'CC'),\n",
       " ('dried', 'JJ'),\n",
       " ('sage', 'NN'),\n",
       " ('alongside', 'RB'),\n",
       " ('brisk', 'JJ'),\n",
       " ('acidity', 'NN')]"
      ]
     },
     "execution_count": 18,
     "metadata": {},
     "output_type": "execute_result"
    }
   ],
   "source": [
    "tagged_example = pos_tagger (tokenized_example)\n",
    "tagged_example"
   ]
  },
  {
   "cell_type": "code",
   "execution_count": 19,
   "id": "5ffba62c",
   "metadata": {},
   "outputs": [
    {
     "data": {
      "text/plain": [
       "['tropical',\n",
       " 'fruit',\n",
       " 'broom',\n",
       " 'brimstone',\n",
       " 'herb',\n",
       " 'palate',\n",
       " 'isn',\n",
       " 'expressive',\n",
       " 'offering',\n",
       " 'unripened',\n",
       " 'apple',\n",
       " 'citrus',\n",
       " 'dried',\n",
       " 'sage',\n",
       " 'brisk',\n",
       " 'acidity']"
      ]
     },
     "execution_count": 19,
     "metadata": {},
     "output_type": "execute_result"
    }
   ],
   "source": [
    "filtered_tagged_example = remove_unnecessary_pos_tags(tagged_example)\n",
    "filtered_tagged_example"
   ]
  },
  {
   "cell_type": "code",
   "execution_count": 23,
   "id": "ebc68320",
   "metadata": {},
   "outputs": [
    {
     "data": {
      "text/plain": [
       "16"
      ]
     },
     "execution_count": 23,
     "metadata": {},
     "output_type": "execute_result"
    }
   ],
   "source": [
    "len (filtered_tagged_example)"
   ]
  },
  {
   "cell_type": "code",
   "execution_count": 24,
   "id": "6ea760cc",
   "metadata": {},
   "outputs": [
    {
     "data": {
      "text/plain": [
       "15"
      ]
     },
     "execution_count": 24,
     "metadata": {},
     "output_type": "execute_result"
    }
   ],
   "source": [
    "len (no_stopwords_example)"
   ]
  },
  {
   "cell_type": "code",
   "execution_count": 22,
   "id": "c6ba9198",
   "metadata": {},
   "outputs": [
    {
     "data": {
      "text/plain": [
       "['tropical',\n",
       " 'fruit',\n",
       " 'broom',\n",
       " 'brimstone',\n",
       " 'herb',\n",
       " 'palate',\n",
       " 'expressive',\n",
       " 'offering',\n",
       " 'unripened',\n",
       " 'apple',\n",
       " 'citrus',\n",
       " 'dried',\n",
       " 'sage',\n",
       " 'brisk',\n",
       " 'acidity']"
      ]
     },
     "execution_count": 22,
     "metadata": {},
     "output_type": "execute_result"
    }
   ],
   "source": [
    "no_stopwords_example = remove_stopwords (filtered_tagged_example)\n",
    "no_stopwords_example "
   ]
  },
  {
   "cell_type": "code",
   "execution_count": 25,
   "id": "1ab5a4fc",
   "metadata": {},
   "outputs": [
    {
     "data": {
      "text/plain": [
       "['tropical',\n",
       " 'fruit',\n",
       " 'broom',\n",
       " 'brimstone',\n",
       " 'herb',\n",
       " 'palate',\n",
       " 'expressive',\n",
       " 'offering',\n",
       " 'unripened',\n",
       " 'apple',\n",
       " 'citrus',\n",
       " 'dried',\n",
       " 'sage',\n",
       " 'brisk',\n",
       " 'acidity']"
      ]
     },
     "execution_count": 25,
     "metadata": {},
     "output_type": "execute_result"
    }
   ],
   "source": [
    "final_example = remove_short_words(no_stopwords_example)\n",
    "final_example"
   ]
  },
  {
   "cell_type": "code",
   "execution_count": 26,
   "id": "29e3e681",
   "metadata": {},
   "outputs": [
    {
     "data": {
      "text/plain": [
       "15"
      ]
     },
     "execution_count": 26,
     "metadata": {},
     "output_type": "execute_result"
    }
   ],
   "source": [
    "len(final_example)"
   ]
  },
  {
   "cell_type": "code",
   "execution_count": null,
   "id": "4bb3dca0",
   "metadata": {},
   "outputs": [],
   "source": []
  }
 ],
 "metadata": {
  "kernelspec": {
   "display_name": "Python 3 (ipykernel)",
   "language": "python",
   "name": "python3"
  },
  "language_info": {
   "codemirror_mode": {
    "name": "ipython",
    "version": 3
   },
   "file_extension": ".py",
   "mimetype": "text/x-python",
   "name": "python",
   "nbconvert_exporter": "python",
   "pygments_lexer": "ipython3",
   "version": "3.9.7"
  },
  "toc": {
   "base_numbering": 1,
   "nav_menu": {},
   "number_sections": true,
   "sideBar": true,
   "skip_h1_title": false,
   "title_cell": "Table of Contents",
   "title_sidebar": "Contents",
   "toc_cell": false,
   "toc_position": {},
   "toc_section_display": true,
   "toc_window_display": false
  }
 },
 "nbformat": 4,
 "nbformat_minor": 5
}
